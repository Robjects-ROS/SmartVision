{
 "cells": [
  {
   "cell_type": "code",
   "execution_count": 1,
   "metadata": {
    "execution": {
     "iopub.execute_input": "2025-03-22T14:37:33.258722Z",
     "iopub.status.busy": "2025-03-22T14:37:33.257432Z",
     "iopub.status.idle": "2025-03-22T14:37:35.455599Z",
     "shell.execute_reply": "2025-03-22T14:37:35.447917Z",
     "shell.execute_reply.started": "2025-03-22T14:37:33.258433Z"
    }
   },
   "outputs": [
    {
     "data": {
      "application/vnd.jupyter.widget-view+json": {
       "model_id": "c890e804b6fd491592ce19f8c6b1887d",
       "version_major": 2,
       "version_minor": 0
      },
      "text/plain": [
       "Image(value=b'', format='jpeg', height='500', width='600')"
      ]
     },
     "metadata": {},
     "output_type": "display_data"
    }
   ],
   "source": [
    "import cv2\n",
    "import ipywidgets.widgets as widgets\n",
    "import threading\n",
    "import time\n",
    "\n",
    "image_widget = widgets.Image(format='jpeg', width=600, height=500)  \n",
    "display(image_widget)                                               "
   ]
  },
  {
   "cell_type": "code",
   "execution_count": 2,
   "metadata": {
    "execution": {
     "iopub.execute_input": "2025-03-22T14:37:35.470924Z",
     "iopub.status.busy": "2025-03-22T14:37:35.462297Z",
     "iopub.status.idle": "2025-03-22T14:37:35.505779Z",
     "shell.execute_reply": "2025-03-22T14:37:35.503039Z",
     "shell.execute_reply.started": "2025-03-22T14:37:35.470804Z"
    }
   },
   "outputs": [],
   "source": [
    "import enum\n",
    "import cv2\n",
    "\n",
    "def bgr8_to_jpeg(value, quality=75):\n",
    "    return bytes(cv2.imencode('.jpg', value)[1])"
   ]
  },
  {
   "cell_type": "code",
   "execution_count": 3,
   "metadata": {
    "execution": {
     "iopub.execute_input": "2025-03-22T14:37:38.194377Z",
     "iopub.status.busy": "2025-03-22T14:37:38.172804Z",
     "iopub.status.idle": "2025-03-22T14:37:39.987551Z",
     "shell.execute_reply": "2025-03-22T14:37:39.984159Z",
     "shell.execute_reply.started": "2025-03-22T14:37:38.194261Z"
    }
   },
   "outputs": [],
   "source": [
    "image = cv2.VideoCapture(0)                           #Open camera\n",
    "\n",
    "width=600\n",
    "height=500\n",
    "# cap.set(cv2.CAP_PROP_FRAME_WIDTH,width)\n",
    "# cap.set(cv2.CAP_PROP_FRAME_HEIGHT,height)\n",
    "\n",
    "image.set(3,600)       \n",
    "image.set(4,500)\n",
    "image.set(5, 30)  #Set frame rate\n",
    "image.set(cv2.CAP_PROP_FOURCC, cv2.VideoWriter.fourcc('M', 'J', 'P', 'G'))\n",
    "image.set(cv2.CAP_PROP_BRIGHTNESS, 40) #set brightness -64 - 64  0.0\n",
    "image.set(cv2.CAP_PROP_CONTRAST, 50)   #set contrast -64 - 64  2.0\n",
    "image.set(cv2.CAP_PROP_EXPOSURE, 156)  #set exposure 1.0 - 5000  156.0\n",
    "\n",
    "ret, frame = image.read()     #Read camera data\n",
    "image_widget.value = bgr8_to_jpeg(frame)"
   ]
  },
  {
   "cell_type": "code",
   "execution_count": null,
   "metadata": {
    "execution": {
     "iopub.execute_input": "2025-03-22T14:37:40.022160Z",
     "iopub.status.busy": "2025-03-22T14:37:40.015845Z"
    }
   },
   "outputs": [],
   "source": [
    "try:\n",
    "    while 1:\n",
    "        ret, frame = image.read()\n",
    "        image_widget.value = bgr8_to_jpeg(frame)\n",
    "        time.sleep(0.010)\n",
    "except KeyboardInterrupt:\n",
    "    print(\" Program closed! \")\n",
    "    pass"
   ]
  },
  {
   "cell_type": "code",
   "execution_count": null,
   "metadata": {},
   "outputs": [],
   "source": [
    "image.release()"
   ]
  },
  {
   "cell_type": "code",
   "execution_count": null,
   "metadata": {},
   "outputs": [],
   "source": []
  },
  {
   "cell_type": "code",
   "execution_count": null,
   "metadata": {},
   "outputs": [],
   "source": [
    "import cv2\n",
    "\n",
    "cam = cv2.VideoCapture(0)\n",
    "\n",
    "while True:\n",
    "\tret, image = cam.read()\n",
    "\tcv2.imshow('Imagetest',image)\n",
    "\tk = cv2.waitKey(1)\n",
    "\tif k != -1:\n",
    "\t\tbreak\n",
    "cv2.imwrite('/home/pi/testimage.jpg', image)\n",
    "cam.release()\n",
    "cv2.destroyAllWindows()"
   ]
  },
  {
   "cell_type": "code",
   "execution_count": null,
   "metadata": {},
   "outputs": [],
   "source": []
  },
  {
   "cell_type": "code",
   "execution_count": null,
   "metadata": {},
   "outputs": [],
   "source": []
  }
 ],
 "metadata": {
  "kernelspec": {
   "display_name": "Python 3",
   "language": "python",
   "name": "python3"
  },
  "language_info": {
   "codemirror_mode": {
    "name": "ipython",
    "version": 3
   },
   "file_extension": ".py",
   "mimetype": "text/x-python",
   "name": "python",
   "nbconvert_exporter": "python",
   "pygments_lexer": "ipython3",
   "version": "3.8.10"
  },
  "widgets": {
   "application/vnd.jupyter.widget-state+json": {
    "state": {
     "26c32b9131954f6eae865f8329c8635d": {
      "model_module": "@jupyter-widgets/controls",
      "model_module_version": "1.5.0",
      "model_name": "ImageModel",
      "state": {
       "format": "jpeg",
       "height": "500",
       "layout": "IPY_MODEL_c096bc2095f4431b869c4eb04c540b6c",
       "width": "600"
      }
     },
     "c096bc2095f4431b869c4eb04c540b6c": {
      "model_module": "@jupyter-widgets/base",
      "model_module_version": "1.2.0",
      "model_name": "LayoutModel",
      "state": {}
     }
    },
    "version_major": 2,
    "version_minor": 0
   }
  }
 },
 "nbformat": 4,
 "nbformat_minor": 4
}
