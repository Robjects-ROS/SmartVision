{
 "cells": [
  {
   "cell_type": "code",
   "execution_count": null,
   "metadata": {},
   "outputs": [],
   "source": []
  },
  {
   "cell_type": "code",
   "execution_count": 1,
   "metadata": {
    "execution": {
     "iopub.execute_input": "2025-04-02T17:49:36.974953Z",
     "iopub.status.busy": "2025-04-02T17:49:36.974014Z",
     "iopub.status.idle": "2025-04-02T17:49:38.640364Z",
     "shell.execute_reply": "2025-04-02T17:49:38.636209Z",
     "shell.execute_reply.started": "2025-04-02T17:49:36.974767Z"
    }
   },
   "outputs": [],
   "source": [
    "\n",
    "import enum\n",
    "import cv2\n",
    "\n",
    "def bgr8_to_jpeg(value, quality=75):\n",
    "    return bytes(cv2.imencode('.jpg', value)[1])"
   ]
  },
  {
   "cell_type": "code",
   "execution_count": 2,
   "metadata": {
    "execution": {
     "iopub.execute_input": "2025-04-02T17:49:39.447865Z",
     "iopub.status.busy": "2025-04-02T17:49:39.447031Z",
     "iopub.status.idle": "2025-04-02T17:49:40.057576Z",
     "shell.execute_reply": "2025-04-02T17:49:40.053270Z",
     "shell.execute_reply.started": "2025-04-02T17:49:39.447796Z"
    }
   },
   "outputs": [
    {
     "data": {
      "application/vnd.jupyter.widget-view+json": {
       "model_id": "594687c866884544962cbe5b6fa3b90d",
       "version_major": 2,
       "version_minor": 0
      },
      "text/plain": [
       "HBox(children=(Image(value=b'', format='jpeg', height='240', width='320'), Image(value=b'', format='jpeg', hei…"
      ]
     },
     "metadata": {},
     "output_type": "display_data"
    }
   ],
   "source": [
    "\n",
    "import traitlets\n",
    "import ipywidgets.widgets as widgets\n",
    "import time\n",
    "\n",
    "import threading\n",
    "import inspect\n",
    "import ctypes\n",
    "\n",
    "origin_widget = widgets.Image(format='jpeg', width=320, height=240)\n",
    "mask_widget = widgets.Image(format='jpeg',width=320, height=240)\n",
    "result_widget = widgets.Image(format='jpeg',width=320, height=240)\n",
    "\n",
    "\n",
    "image_container = widgets.HBox([origin_widget, mask_widget, result_widget])\n",
    "# image_container = widgets.Image(format='jpeg', width=600, height=500)\n",
    "display(image_container)"
   ]
  },
  {
   "cell_type": "code",
   "execution_count": 3,
   "metadata": {
    "execution": {
     "iopub.execute_input": "2025-04-02T17:49:41.460954Z",
     "iopub.status.busy": "2025-04-02T17:49:41.460113Z",
     "iopub.status.idle": "2025-04-02T17:49:41.478778Z",
     "shell.execute_reply": "2025-04-02T17:49:41.473356Z",
     "shell.execute_reply.started": "2025-04-02T17:49:41.460883Z"
    }
   },
   "outputs": [],
   "source": [
    "\n",
    "def _async_raise(tid, exctype):\n",
    "    \"\"\"raises the exception, performs cleanup if needed\"\"\"\n",
    "    tid = ctypes.c_long(tid)\n",
    "    if not inspect.isclass(exctype):\n",
    "        exctype = type(exctype)\n",
    "    res = ctypes.pythonapi.PyThreadState_SetAsyncExc(tid, ctypes.py_object(exctype))\n",
    "    if res == 0:\n",
    "        raise ValueError(\"invalid thread id\")\n",
    "    elif res != 1:\n",
    "      \n",
    "        ctypes.pythonapi.PyThreadState_SetAsyncExc(tid, None)\n",
    "        \n",
    "def stop_thread(thread):\n",
    "    _async_raise(thread.ident, SystemExit)"
   ]
  },
  {
   "cell_type": "code",
   "execution_count": 4,
   "metadata": {
    "execution": {
     "iopub.execute_input": "2025-04-02T17:49:42.612669Z",
     "iopub.status.busy": "2025-04-02T17:49:42.611752Z",
     "iopub.status.idle": "2025-04-02T17:49:42.632507Z",
     "shell.execute_reply": "2025-04-02T17:49:42.630149Z",
     "shell.execute_reply.started": "2025-04-02T17:49:42.612584Z"
    }
   },
   "outputs": [],
   "source": [
    "def get_color(img):\n",
    "    H = []\n",
    "    color_name={}\n",
    "    img = cv2.resize(img, (640, 480), )\n",
    "  \n",
    "    HSV = cv2.cvtColor(img, cv2.COLOR_BGR2HSV)\n",
    "   \n",
    "    cv2.rectangle(img, (280, 180), (360, 260), (0, 255, 0), 2)\n",
    "  \n",
    "    for i in range(280, 360):\n",
    "        for j in range(180, 260): H.append(HSV[j, i][0])\n",
    "  \n",
    "    H_min = min(H);H_max = max(H)\n",
    "\n",
    "    if H_min >= 0 and H_max <= 10 or H_min >= 156 and H_max <= 180: color_name['name'] = 'red'\n",
    "    elif H_min >= 26 and H_max <= 34: color_name['name'] = 'yellow'\n",
    "    elif H_min >= 35 and H_max <= 78: color_name['name'] = 'green'\n",
    "    elif H_min >= 100 and H_max <= 124: color_name['name'] = 'blue'\n",
    "    return img, color_name"
   ]
  },
  {
   "cell_type": "code",
   "execution_count": 5,
   "metadata": {
    "execution": {
     "iopub.execute_input": "2025-04-02T17:49:43.751400Z",
     "iopub.status.busy": "2025-04-02T17:49:43.750490Z",
     "iopub.status.idle": "2025-04-02T17:49:44.116052Z",
     "shell.execute_reply": "2025-04-02T17:49:44.114076Z",
     "shell.execute_reply.started": "2025-04-02T17:49:43.751312Z"
    }
   },
   "outputs": [],
   "source": [
    "import cv2\n",
    "import numpy as np\n",
    "import ipywidgets.widgets as widgets\n",
    "\n",
    "\n",
    "cap = cv2.VideoCapture(0)\n",
    "cap.set(3, 640)\n",
    "cap.set(4, 480)\n",
    "cap.set(5, 30)  #设置帧率\n",
    "cap.set(cv2.CAP_PROP_FOURCC, cv2.VideoWriter.fourcc('M', 'J', 'P', 'G'))\n",
    "\n",
    "color_lower = np.array([0, 43, 46])\n",
    "color_upper = np.array([10, 255, 255])\n",
    "\n",
    "\n",
    "def Color_Recongnize():\n",
    "    \n",
    "    while(1):\n",
    "        # get a frame and show 获取视频帧并转成HSV格式, 利用cvtColor()将BGR格式转成HSV格式，参数为cv2.COLOR_BGR2HSV。\n",
    "        ret, frame = cap.read()\n",
    "        frame, color_name = get_color(frame)\n",
    "        if len(color_name)==1:\n",
    "            global color_lower\n",
    "            global color_upper\n",
    "\n",
    "            if color_name['name'] == 'yellow':\n",
    "                color_lower = np.array([26, 43, 46])\n",
    "                color_upper = np.array([34, 255, 255])\n",
    "                \n",
    "            elif color_name['name'] == 'red':\n",
    "                color_lower = np.array([0, 43, 46])\n",
    "                color_upper = np.array([10, 255, 255])\n",
    "               \n",
    "            elif  color_name['name'] == 'green':\n",
    "                color_lower = np.array([35, 43, 46])\n",
    "                color_upper = np.array([77, 255, 255])\n",
    "              \n",
    "            elif color_name['name'] == 'blue':\n",
    "                color_lower=np.array([100, 43, 46])\n",
    "                color_upper = np.array([124, 255, 255])\n",
    "\n",
    "        origin_widget.value = bgr8_to_jpeg(frame)\n",
    "        #cv2.imshow('Capture', frame)\n",
    "\n",
    "        # change to hsv model\n",
    "        hsv = cv2.cvtColor(frame, cv2.COLOR_BGR2HSV)\n",
    "\n",
    "        # get mask 利用inRange()函数和HSV模型中蓝色范围的上下界获取mask，mask中原视频中的蓝色部分会被弄成白色，其他部分黑色。\n",
    "        mask = cv2.inRange(hsv, color_lower, color_upper)\n",
    "        #cv2.imshow('Mask', mask)\n",
    "        mask_widget.value = bgr8_to_jpeg(mask)\n",
    "\n",
    "\n",
    "        # detect blue 将mask于原视频帧进行按位与操作，则会把mask中的白色用真实的图像替换：\n",
    "        res = cv2.bitwise_and(frame, frame, mask=mask)\n",
    "        #cv2.imshow('Result', res)\n",
    "        result_widget.value = bgr8_to_jpeg(res)\n",
    "\n",
    "        #     if cv2.waitKey(1) & 0xFF == ord('q'):\n",
    "        #         break\n",
    "        time.sleep(0.01)\n",
    "\n",
    "\n",
    "    cap.release()\n",
    "    #cv2.destroyAllWindows()"
   ]
  },
  {
   "cell_type": "code",
   "execution_count": 6,
   "metadata": {
    "execution": {
     "iopub.execute_input": "2025-04-02T17:49:44.691769Z",
     "iopub.status.busy": "2025-04-02T17:49:44.690957Z",
     "iopub.status.idle": "2025-04-02T17:49:44.706436Z",
     "shell.execute_reply": "2025-04-02T17:49:44.704042Z",
     "shell.execute_reply.started": "2025-04-02T17:49:44.691700Z"
    }
   },
   "outputs": [],
   "source": [
    "#启动进程\n",
    "thread1 = threading.Thread(target=Color_Recongnize)\n",
    "thread1.setDaemon(True)\n",
    "thread1.start()"
   ]
  },
  {
   "cell_type": "code",
   "execution_count": null,
   "metadata": {},
   "outputs": [],
   "source": [
    "\n",
    "try:\n",
    "    while True:\n",
    "        time.sleep(.000001)\n",
    "except KeyboardInterrupt:\n",
    "    print(\" Program closed! \")\n",
    "    pass\n",
    "stop_thread(thread1)"
   ]
  },
  {
   "cell_type": "code",
   "execution_count": null,
   "metadata": {},
   "outputs": [],
   "source": [
    "cap.release()              #使用完成对象记住释放掉对象，不然下一个程序使用这个对象模块会被占用，导致无法使用"
   ]
  },
  {
   "cell_type": "code",
   "execution_count": null,
   "metadata": {},
   "outputs": [],
   "source": []
  }
 ],
 "metadata": {
  "kernelspec": {
   "display_name": "Python 3",
   "language": "python",
   "name": "python3"
  },
  "language_info": {
   "codemirror_mode": {
    "name": "ipython",
    "version": 3
   },
   "file_extension": ".py",
   "mimetype": "text/x-python",
   "name": "python",
   "nbconvert_exporter": "python",
   "pygments_lexer": "ipython3",
   "version": "3.8.10"
  },
  "widgets": {
   "application/vnd.jupyter.widget-state+json": {
    "state": {},
    "version_major": 2,
    "version_minor": 0
   }
  }
 },
 "nbformat": 4,
 "nbformat_minor": 5
}
