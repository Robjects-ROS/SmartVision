{
 "cells": [
  {
   "cell_type": "markdown",
   "metadata": {},
   "source": [
    "# Hardware Configuration Checklist\n",
    "\n",
    "## Overview\n",
    "\n",
    "This notebook is aimed on configuring the hardware for the project. The hardware configuration checklist is a list of steps that need to be taken to configure the hardware for the project. The checklist is divided into two parts: the first part is the hardware configuration checklist for the Raspberry Pi that contains the robotics software stack, and the second part is the hardware configuration checklist for the camera placed on the end of the 3-axis robotic arm.\n",
    "\n",
    "## Table of Contents\n",
    "\n",
    "1. [Hardware Configuration Checklist for the Servo Controller](#hardware-configuration-checklist-for-the-raspberry-pi-servo-controller)\n",
    "   1. [Install the Servo Controller Library](#install-the-servo-controller-library)\n",
    "   2. [Configure the Servo Controller](#configure-the-servo-controller)\n",
    "   3. [Test the Servo Controller](#test-the-servo-controller)\n",
    "2. [Hardware Configuration Checklist for the Camera](#hardware-configuration-checklist-for-the-camera)\n",
    "   1. [Install the Camera](#install-the-camera)\n",
    "   2. [Configure the Camera](#configure-the-camera)\n",
    "   3. [Test the Camera](#test-the-camera)\n",
    "3. [Conclusion](#conclusion)\n",
    "4. [Next Steps](#next-steps)\n",
    "5. [References](#references)\n"
   ]
  },
  {
   "cell_type": "markdown",
   "metadata": {},
   "source": [
    "\n",
    "*This section covers the setup and configuration of the servo controller hardware connected to the Raspberry Pi. The servo controller is responsible for controlling the movements of the 3-axis robotic arm.*\n"
   ]
  },
  {
   "cell_type": "markdown",
   "metadata": {},
   "source": [
    "\n",
    "## Installing Libraries\n",
    "\n",
    "To interface with the servo controller and camera we need to install the necessary libraries:\n",
    "\n",
    "1. **python3** - The programming language used to interface with the servo controller.\n",
    "2. **servo controller library** - The library used to interface with the servo controller.\n",
    "3. **opencv** - The library used for computer vision tasks.\n",
    "4. **machine** learning libraries - The libraries used for machine learning tasks.\n",
    "\n",
    "\n",
    "> **Quick Note:**\n",
    "> \n",
    ">  If you just want to control the camera, you can skip this step."
   ]
  },
  {
   "cell_type": "markdown",
   "metadata": {},
   "source": [
    "\n",
    "#### Installing Python Libraries\n",
    "\n",
    "\n",
    "Python3 is the programming language used to interface with the servo controller.You will be utilizing opencv and machine learning libraries, so it is recommended to modulate the installation of the libraries in a virtual environment or keep some sort of version control to avoid conflicts with other projects.\n"
   ]
  },
  {
   "cell_type": "markdown",
   "metadata": {},
   "source": [
    "\n",
    "\n",
    "\n",
    "\n",
    "`Check the version of python3 installed on your Raspberry Pi by running the following command.`\n",
    "\n",
    "\n",
    "\n"
   ]
  },
  {
   "cell_type": "markdown",
   "metadata": {},
   "source": [
    "\n",
    "\n",
    "```bash\n",
    "`pip3 --version`\n",
    "```\n",
    "\n",
    "\n",
    "\n"
   ]
  },
  {
   "cell_type": "markdown",
   "metadata": {},
   "source": [
    "\n",
    "#### Installing 'arm_lib' (Servo Controller Library)\n",
    "*Robotic Arm library used to control the robotic arm servos.*  \n"
   ]
  },
  {
   "cell_type": "markdown",
   "metadata": {},
   "source": [
    "\n",
    "![Raspberry Pi Servo Controller Configuration Checklist](../../etc/imgs/servo_directory_structure_2.png)\n"
   ]
  },
  {
   "cell_type": "markdown",
   "metadata": {},
   "source": [
    "\n",
    "\n",
    "This library is used to control the robotic arm servos, which are connected to default library used in [yahboom robotic arm]. Please see latest version of the dofbot arm to check the compatibility of the library. I recommend using other servo controller libraries if you are using a different robotic arm.\n",
    "\n",
    "\n",
    "\n",
    "Here is the code to install the customized library for the robotic arm. \n",
    "Additionally, I have created a bash script called 'install-arm-dependencies.sh' that runs and installs the library. (reference the code below):\n",
    "\n"
   ]
  },
  {
   "cell_type": "markdown",
   "metadata": {},
   "source": [
    "`python arm_lib-0.0.5.tar.gz install\n",
    "`\n"
   ]
  },
  {
   "cell_type": "markdown",
   "metadata": {},
   "source": [
    "\n",
    "```python\n",
    "from setuptools import find_packages,setup\n",
    "setup(\n",
    "    name = 'Arm_Lib',\n",
    "    version = '0.0.5',\n",
    "    author='Yahboom Team',\n",
    "    packages = find_packages(),\n",
    ")\n",
    "```\n",
    "\n",
    "\n"
   ]
  },
  {
   "cell_type": "markdown",
   "metadata": {},
   "source": [
    "`command to install the library within the directory containing the setup.py file.\n",
    "`\n",
    "\n"
   ]
  },
  {
   "cell_type": "markdown",
   "metadata": {
    "vscode": {
     "languageId": "shellscript"
    }
   },
   "source": [
    "\n",
    "```bash\n",
    "cd /home/Dofbot/Dofbot/0.py_install\n",
    "$ sudo python3 setup.py install\n",
    "```\n"
   ]
  },
  {
   "cell_type": "markdown",
   "metadata": {},
   "source": [
    "\n",
    "`Then, you can run the following command to install the library:\n",
    "`\n",
    "```bash\n",
    "bash install-arm-dependencies.sh\n",
    "```\n",
    "\n",
    "\n"
   ]
  },
  {
   "cell_type": "markdown",
   "metadata": {},
   "source": [
    "\n",
    "This installs the library and its dependencies, which is setup in a seperate directory called **'py_install'**. The library is used to control the robotic arm servos, which are connected to the default library used in the 'Yahboom **DOFBOT** robotic arm'. Please see the latest version of the DOFBOT arm to check the compatibility of the library. If you just want to control the camera, you can skip this step.\n",
    "\n",
    "\n"
   ]
  },
  {
   "cell_type": "markdown",
   "metadata": {},
   "source": [
    "#### Installing OpenCV\n",
    "\n",
    "OpenCV is a library used for computer vision tasks. You can install OpenCV by running the following command:\n",
    "\n",
    "\n"
   ]
  },
  {
   "cell_type": "markdown",
   "metadata": {},
   "source": [
    "`Install OpenCV using the following command:`\n"
   ]
  },
  {
   "cell_type": "markdown",
   "metadata": {},
   "source": [
    "\n",
    "```bash\n",
    "sudo apt-get install python3-opencv\n",
    "```\n"
   ]
  },
  {
   "cell_type": "markdown",
   "metadata": {},
   "source": [
    "\n",
    "#### Installing Machine Learning Libraries\n",
    "\n",
    "You can install machine learning libraries by running the following command:\n",
    "\n",
    "\n"
   ]
  },
  {
   "cell_type": "markdown",
   "metadata": {},
   "source": [
    "`Install machine learning libraries using the following command:`\n"
   ]
  },
  {
   "cell_type": "markdown",
   "metadata": {},
   "source": [
    "\n",
    "\n",
    "```bash\n",
    "pip3 install numpy pandas scikit-learn\n",
    "```\n",
    "\n",
    "> Note: we'll add more libraries as we progress through the project, but these are the basic libraries needed to get started.\n",
    "\n",
    "\n"
   ]
  },
  {
   "cell_type": "markdown",
   "metadata": {},
   "source": [
    "\n",
    "## Installing the Camera\n",
    "\n",
    "Your first step is to install the camera on the end of the 3-axis robotic arm. The camera is used for vision-based tasks in the SmartVision project. The camera is connected to the Raspberry Pi via a USB cable. You can install the camera by following the steps below:\n",
    "\n",
    "This section covers the setup and configuration of the camera mounted on the end of the 3-axis robotic arm. The camera is used for vision-based tasks in the SmartVision project.\n"
   ]
  },
  {
   "cell_type": "markdown",
   "metadata": {},
   "source": [
    "\n",
    "### Steps to install the camera:\n"
   ]
  },
  {
   "cell_type": "markdown",
   "metadata": {},
   "source": [
    "\n",
    "1. Attach the camera to the robotic arm using the mounting bracket.\n",
    "2. Connect the camera cable to the Raspberry Pi.\n",
    "3. Secure the camera cable to prevent interference with the arm's movements.\n",
    "4. Position the camera to capture the desired viewpoint.\n",
    "5. Power on the camera and check the LED indicator.\n"
   ]
  },
  {
   "cell_type": "markdown",
   "metadata": {},
   "source": [
    "\n",
    "### Test the Camera\n",
    "\n",
    "Once the camera is configured, we can test it to ensure it's capturing images correctly:\n",
    "\n",
    "Let's run some tests via the jupyter notebook to check if the camera is working properly. We will use the openCV library to capture an image from the camera and display it in the notebook. The following code snippet captures an image from the camera and displays it in the notebook, we will use the following 4 actions to test the camera:\n",
    "\n",
    "\n"
   ]
  },
  {
   "cell_type": "markdown",
   "metadata": {},
   "source": [
    "\n",
    "#### Working with images/video on the file system\n",
    "\n",
    "\n"
   ]
  },
  {
   "cell_type": "markdown",
   "metadata": {},
   "source": [
    "\n",
    "`1. Read an image from the file system\n",
    "`"
   ]
  },
  {
   "cell_type": "code",
   "execution_count": 10,
   "metadata": {},
   "outputs": [],
   "source": [
    "\n",
    "import cv2\n",
    "import matplotlib.pyplot as plt\n",
    "\n",
    "\n",
    "# Path to the image file\n",
    "directory_head = '../../'\n",
    "local_image_path = 'etc/imgs/sample_dataset_image.png'\n",
    "\n",
    "# Test image\n",
    "# image_path = 'new_image.jpg'\n",
    "image_path = directory_head + local_image_path\n"
   ]
  },
  {
   "cell_type": "code",
   "execution_count": 11,
   "metadata": {},
   "outputs": [],
   "source": [
    "\n",
    "import enum\n",
    "import cv2\n",
    "\n",
    "def bgr8_to_jpeg(value, quality=75):\n",
    "    return bytes(cv2.imencode('.png', value)[1])"
   ]
  },
  {
   "cell_type": "code",
   "execution_count": 12,
   "metadata": {},
   "outputs": [
    {
     "data": {
      "application/vnd.jupyter.widget-view+json": {
       "model_id": "5b2fbf8297de497ea19efe84fce48113",
       "version_major": 2,
       "version_minor": 0
      },
      "text/plain": [
       "Image(value=b'', height='240', width='320')"
      ]
     },
     "metadata": {},
     "output_type": "display_data"
    },
    {
     "ename": "error",
     "evalue": "OpenCV(4.8.1) /io/opencv/modules/imgcodecs/src/loadsave.cpp:1113: error: (-215:Assertion failed) !image.empty() in function 'imencode'\n",
     "output_type": "error",
     "traceback": [
      "\u001b[0;31m---------------------------------------------------------------------------\u001b[0m",
      "\u001b[0;31merror\u001b[0m                                     Traceback (most recent call last)",
      "\u001b[0;32m<ipython-input-12-34b65a136a0e>\u001b[0m in \u001b[0;36m<module>\u001b[0;34m\u001b[0m\n\u001b[1;32m      4\u001b[0m \u001b[0mdisplay\u001b[0m\u001b[0;34m(\u001b[0m\u001b[0mimage_widget\u001b[0m\u001b[0;34m)\u001b[0m\u001b[0;34m\u001b[0m\u001b[0;34m\u001b[0m\u001b[0m\n\u001b[1;32m      5\u001b[0m \u001b[0mimg\u001b[0m \u001b[0;34m=\u001b[0m \u001b[0mcv2\u001b[0m\u001b[0;34m.\u001b[0m\u001b[0mimread\u001b[0m\u001b[0;34m(\u001b[0m\u001b[0;34m'sample_dataset_image.png'\u001b[0m\u001b[0;34m,\u001b[0m\u001b[0;36m1\u001b[0m\u001b[0;34m)\u001b[0m\u001b[0;34m\u001b[0m\u001b[0;34m\u001b[0m\u001b[0m\n\u001b[0;32m----> 6\u001b[0;31m \u001b[0mimage_widget\u001b[0m\u001b[0;34m.\u001b[0m\u001b[0mvalue\u001b[0m \u001b[0;34m=\u001b[0m \u001b[0mbgr8_to_jpeg\u001b[0m\u001b[0;34m(\u001b[0m\u001b[0mimg\u001b[0m\u001b[0;34m)\u001b[0m\u001b[0;34m\u001b[0m\u001b[0;34m\u001b[0m\u001b[0m\n\u001b[0m",
      "\u001b[0;32m<ipython-input-11-00c642029b14>\u001b[0m in \u001b[0;36mbgr8_to_jpeg\u001b[0;34m(value, quality)\u001b[0m\n\u001b[1;32m      3\u001b[0m \u001b[0;34m\u001b[0m\u001b[0m\n\u001b[1;32m      4\u001b[0m \u001b[0;32mdef\u001b[0m \u001b[0mbgr8_to_jpeg\u001b[0m\u001b[0;34m(\u001b[0m\u001b[0mvalue\u001b[0m\u001b[0;34m,\u001b[0m \u001b[0mquality\u001b[0m\u001b[0;34m=\u001b[0m\u001b[0;36m75\u001b[0m\u001b[0;34m)\u001b[0m\u001b[0;34m:\u001b[0m\u001b[0;34m\u001b[0m\u001b[0;34m\u001b[0m\u001b[0m\n\u001b[0;32m----> 5\u001b[0;31m     \u001b[0;32mreturn\u001b[0m \u001b[0mbytes\u001b[0m\u001b[0;34m(\u001b[0m\u001b[0mcv2\u001b[0m\u001b[0;34m.\u001b[0m\u001b[0mimencode\u001b[0m\u001b[0;34m(\u001b[0m\u001b[0;34m'.png'\u001b[0m\u001b[0;34m,\u001b[0m \u001b[0mvalue\u001b[0m\u001b[0;34m)\u001b[0m\u001b[0;34m[\u001b[0m\u001b[0;36m1\u001b[0m\u001b[0;34m]\u001b[0m\u001b[0;34m)\u001b[0m\u001b[0;34m\u001b[0m\u001b[0;34m\u001b[0m\u001b[0m\n\u001b[0m",
      "\u001b[0;31merror\u001b[0m: OpenCV(4.8.1) /io/opencv/modules/imgcodecs/src/loadsave.cpp:1113: error: (-215:Assertion failed) !image.empty() in function 'imencode'\n"
     ]
    }
   ],
   "source": [
    "import ipywidgets.widgets as widgets\n",
    "\n",
    "image_widget = widgets.Image(format='png', width=320, height=240)\n",
    "display(image_widget)\n",
    "img = cv2.imread('sample_dataset_image.png',1)\n",
    "image_widget.value = bgr8_to_jpeg(img)\n"
   ]
  },
  {
   "cell_type": "code",
   "execution_count": null,
   "metadata": {},
   "outputs": [
    {
     "data": {
      "application/vnd.jupyter.widget-view+json": {
       "model_id": "41458601fae948c285142b780f6083ec",
       "version_major": 2,
       "version_minor": 0
      },
      "text/plain": [
       "Image(value=b'', height='800', width='800')"
      ]
     },
     "metadata": {},
     "output_type": "display_data"
    },
    {
     "ename": "error",
     "evalue": "OpenCV(4.8.1) /io/opencv/modules/imgcodecs/src/loadsave.cpp:1113: error: (-215:Assertion failed) !image.empty() in function 'imencode'\n",
     "output_type": "error",
     "traceback": [
      "\u001b[0;31m---------------------------------------------------------------------------\u001b[0m",
      "\u001b[0;31merror\u001b[0m                                     Traceback (most recent call last)",
      "\u001b[0;32m<ipython-input-3-1cf4eabc4d40>\u001b[0m in \u001b[0;36m<module>\u001b[0;34m\u001b[0m\n\u001b[1;32m     11\u001b[0m \u001b[0mdisplay\u001b[0m\u001b[0;34m(\u001b[0m\u001b[0mimage_widget\u001b[0m\u001b[0;34m)\u001b[0m\u001b[0;34m\u001b[0m\u001b[0;34m\u001b[0m\u001b[0m\n\u001b[1;32m     12\u001b[0m \u001b[0;34m\u001b[0m\u001b[0m\n\u001b[0;32m---> 13\u001b[0;31m \u001b[0mimage_widget\u001b[0m\u001b[0;34m.\u001b[0m\u001b[0mvalue\u001b[0m \u001b[0;34m=\u001b[0m \u001b[0mbgr8_to_jpeg\u001b[0m\u001b[0;34m(\u001b[0m\u001b[0mimage\u001b[0m\u001b[0;34m)\u001b[0m\u001b[0;34m\u001b[0m\u001b[0;34m\u001b[0m\u001b[0m\n\u001b[0m",
      "\u001b[0;32m<ipython-input-3-1cf4eabc4d40>\u001b[0m in \u001b[0;36mbgr8_to_jpeg\u001b[0;34m(value, quality)\u001b[0m\n\u001b[1;32m      4\u001b[0m \u001b[0;34m\u001b[0m\u001b[0m\n\u001b[1;32m      5\u001b[0m \u001b[0;32mdef\u001b[0m \u001b[0mbgr8_to_jpeg\u001b[0m\u001b[0;34m(\u001b[0m\u001b[0mvalue\u001b[0m\u001b[0;34m,\u001b[0m \u001b[0mquality\u001b[0m\u001b[0;34m=\u001b[0m\u001b[0;36m75\u001b[0m\u001b[0;34m)\u001b[0m\u001b[0;34m:\u001b[0m\u001b[0;34m\u001b[0m\u001b[0;34m\u001b[0m\u001b[0m\n\u001b[0;32m----> 6\u001b[0;31m     \u001b[0;32mreturn\u001b[0m \u001b[0mbytes\u001b[0m\u001b[0;34m(\u001b[0m\u001b[0mcv2\u001b[0m\u001b[0;34m.\u001b[0m\u001b[0mimencode\u001b[0m\u001b[0;34m(\u001b[0m\u001b[0;34m'.png'\u001b[0m\u001b[0;34m,\u001b[0m \u001b[0mvalue\u001b[0m\u001b[0;34m)\u001b[0m\u001b[0;34m[\u001b[0m\u001b[0;36m1\u001b[0m\u001b[0;34m]\u001b[0m\u001b[0;34m)\u001b[0m\u001b[0;34m\u001b[0m\u001b[0;34m\u001b[0m\u001b[0m\n\u001b[0m\u001b[1;32m      7\u001b[0m \u001b[0;34m\u001b[0m\u001b[0m\n\u001b[1;32m      8\u001b[0m \u001b[0;32mimport\u001b[0m \u001b[0mipywidgets\u001b[0m\u001b[0;34m.\u001b[0m\u001b[0mwidgets\u001b[0m \u001b[0;32mas\u001b[0m \u001b[0mwidgets\u001b[0m\u001b[0;34m\u001b[0m\u001b[0;34m\u001b[0m\u001b[0m\n",
      "\u001b[0;31merror\u001b[0m: OpenCV(4.8.1) /io/opencv/modules/imgcodecs/src/loadsave.cpp:1113: error: (-215:Assertion failed) !image.empty() in function 'imencode'\n"
     ]
    }
   ],
   "source": [
    "\n",
    "# Convert the image from BGR to RGB\n",
    "import enum\n",
    "import cv2\n",
    "\n",
    "def bgr8_to_jpeg(value, quality=75):\n",
    "    return bytes(cv2.imencode('.png', value)[1])\n",
    "\n",
    "import ipywidgets.widgets as widgets\n",
    "\n",
    "image_widget = widgets.Image(format='png', width=800, height=800)\n",
    "display(image_widget)\n",
    "\n",
    "image_widget.value = bgr8_to_jpeg(image)\n"
   ]
  },
  {
   "cell_type": "code",
   "execution_count": null,
   "metadata": {},
   "outputs": [],
   "source": [
    "\n",
    "# Display the image\n",
    "plt.imshow(image)\n",
    "plt.axis('off')\n",
    "plt.show()\n"
   ]
  },
  {
   "cell_type": "markdown",
   "metadata": {},
   "source": [
    "\n",
    "`2. Display and write new file image from file system\n",
    "`"
   ]
  },
  {
   "cell_type": "code",
   "execution_count": null,
   "metadata": {},
   "outputs": [],
   "source": [
    "\n",
    "import cv2\n",
    "import matplotlib.pyplot as plt\n",
    "\n",
    "# Read an image from the file system\n",
    "\n",
    "image = cv2.imread(local_image_path)\n",
    "\n",
    "# Display the image\n",
    "plt.imshow(cv2.cvtColor(image, cv2.COLOR_BGR2RGB))\n",
    "plt.axis('off')\n",
    "plt.show()\n",
    "\n",
    "# Write the image to a new file\n",
    "cv2.imwrite('new_image.jpg', image)\n",
    "\n"
   ]
  },
  {
   "cell_type": "markdown",
   "metadata": {},
   "source": [
    "\n",
    "\n",
    "> Note: \n",
    ">     \n",
    "> If the camera is working correctly, you should see the image displayed in the notebook. If you encounter any issues, refer to the troubleshooting section for help.\n",
    "\n"
   ]
  },
  {
   "cell_type": "markdown",
   "metadata": {},
   "source": [
    "\n",
    "#### Working with the camera\n",
    "\n",
    "  1. Capture and create an image from the camera\n",
    "  2. Capture an image frame from the camera and display it in the notebook\n",
    "  3. Capture a video from the camera and display it in the notebook\n",
    "\n",
    "\n",
    "\n",
    "`1. Capture and create an image from the camera`\n"
   ]
  },
  {
   "cell_type": "code",
   "execution_count": null,
   "metadata": {},
   "outputs": [],
   "source": [
    "\n",
    "import cv2\n",
    "\n",
    "\n",
    "# Create a VideoCapture object\n",
    "cap = cv2.VideoCapture(0)\n",
    "\n",
    "# Check if the camera is opened correctly\n",
    "if not cap.isOpened():\n",
    "    print(\"Error: Could not open camera.\")\n",
    "    exit()\n",
    "\n",
    "# Capture a frame from the camera\n",
    "ret, frame = cap.read()\n",
    "\n",
    "# Check if the frame is captured correctly\n",
    "if not ret:\n",
    "    print(\"Error: Could not read frame.\")\n",
    "    exit()\n",
    "\n",
    "# Save the frame as an image\n",
    "cv2.imwrite(\"image.jpg\", frame)\n"
   ]
  },
  {
   "cell_type": "code",
   "execution_count": null,
   "metadata": {},
   "outputs": [],
   "source": [
    "import enum\n",
    "import cv2\n",
    "\n",
    "def bgr8_to_jpeg(value, quality=75):\n",
    "    return bytes(cv2.imencode('.jpg', value)[1])"
   ]
  },
  {
   "cell_type": "code",
   "execution_count": null,
   "metadata": {},
   "outputs": [],
   "source": [
    "\n",
    "# Release the VideoCapture object\n",
    "cap.release()\n"
   ]
  },
  {
   "cell_type": "markdown",
   "metadata": {},
   "source": [
    "\n",
    "`2. Capture an image frame from the camera and display it in the notebook`\n"
   ]
  },
  {
   "cell_type": "code",
   "execution_count": null,
   "metadata": {},
   "outputs": [],
   "source": [
    "\n",
    "\n",
    "\n",
    "\n",
    "import cv2\n",
    "\n",
    "# Create a VideoCapture object\n",
    "cap = cv2.VideoCapture(0)\n",
    "\n",
    "# Check if the camera is opened correctly\n",
    "if not cap.isOpened():\n",
    "    print(\"Error: Could not open camera.\")\n",
    "    exit()\n",
    "\n",
    "# Capture a frame from the camera\n",
    "ret, frame = cap.read()\n",
    "\n",
    "# Check if the frame is captured correctly\n",
    "if not ret:\n",
    "    print(\"Error: Could not read frame.\")\n",
    "    exit()\n",
    "\n",
    "# Save the frame as an image\n",
    "cv2.imwrite(\"image.jpg\", frame)\n",
    "\n",
    "# Release the VideoCapture object\n",
    "cap.release()\n",
    "\n"
   ]
  },
  {
   "cell_type": "markdown",
   "metadata": {},
   "source": [
    "\n",
    "## Conclusion\n",
    "\n",
    "This notebook has guided you through the hardware configuration process for both the servo controller and the camera. Successfully completing these steps ensures that your hardware is properly set up and ready for the next stages of the SmartVision project.\n"
   ]
  },
  {
   "cell_type": "markdown",
   "metadata": {},
   "source": [
    "## Next Steps\n",
    "\n",
    "After completing the hardware configuration, the next steps are:\n",
    "\n",
    "1. Software installation and configuration\n",
    "2. Calibration of the camera and the robotic arm\n",
    "3. Implementation of the vision algorithms\n",
    "4. Integration of the vision system with the robotic control system\n",
    "\n",
    "## References\n",
    "\n",
    "- [Raspberry Pi Documentation](https://www.raspberrypi.org/documentation/)\n",
    "- [Camera Module Documentation](https://www.raspberrypi.org/documentation/hardware/camera/)\n",
    "- [OpenCV Documentation](https://opencv.org/documentation/)"
   ]
  }
 ],
 "metadata": {
  "kernelspec": {
   "display_name": "3.13.0",
   "language": "python",
   "name": "python3"
  },
  "language_info": {
   "codemirror_mode": {
    "name": "ipython",
    "version": 3
   },
   "file_extension": ".py",
   "mimetype": "text/x-python",
   "name": "python",
   "nbconvert_exporter": "python",
   "pygments_lexer": "ipython3",
   "version": "3.13.0"
  }
 },
 "nbformat": 4,
 "nbformat_minor": 2
}
