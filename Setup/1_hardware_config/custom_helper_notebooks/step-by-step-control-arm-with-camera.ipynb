{
 "cells": [
  {
   "cell_type": "markdown",
   "id": "3d5473c9",
   "metadata": {},
   "source": [
    "# Functions to do\n",
    "- [ ] test camera\n",
    "- [ ] read servos\n",
    "- [ ] create widget group 1\n",
    "- [ ] create widget group 2\n",
    "- [ ] test the functionality of the buttons"
   ]
  },
  {
   "cell_type": "markdown",
   "id": "c3c3ba59",
   "metadata": {},
   "source": [
    "# Camera"
   ]
  },
  {
   "cell_type": "markdown",
   "id": "c8999060",
   "metadata": {},
   "source": [
    "## Test the camera\n",
    "\n",
    "first we need to start the camera and see if it is reading something. Using similar code from the camera test and adjusting the shutdown code to the end of the code to see if we can run all parts simultaneously"
   ]
  },
  {
   "cell_type": "code",
   "execution_count": null,
   "id": "71f4b67b",
   "metadata": {
    "execution": {
     "iopub.execute_input": "2025-04-16T22:17:09.123993Z",
     "iopub.status.busy": "2025-04-16T22:17:09.122647Z",
     "iopub.status.idle": "2025-04-16T22:17:09.622380Z",
     "shell.execute_reply": "2025-04-16T22:17:09.619382Z",
     "shell.execute_reply.started": "2025-04-16T22:17:09.123863Z"
    }
   },
   "outputs": [],
   "source": [
    "# Importing the camera and widget libraries\n",
    "import cv2\n",
    "import ipywidgets.widgets as widgets\n",
    "import threading\n",
    "import time\n",
    "\n"
   ]
  },
  {
   "cell_type": "code",
   "execution_count": null,
   "id": "b3c9babb",
   "metadata": {
    "execution": {
     "iopub.execute_input": "2025-04-16T22:17:10.201257Z",
     "iopub.status.busy": "2025-04-16T22:17:10.200329Z",
     "iopub.status.idle": "2025-04-16T22:17:10.214928Z",
     "shell.execute_reply": "2025-04-16T22:17:10.209892Z",
     "shell.execute_reply.started": "2025-04-16T22:17:10.201164Z"
    }
   },
   "outputs": [],
   "source": [
    "# Importing helper function to create image format\n",
    "\n",
    "import enum\n",
    "import cv2\n",
    "\n",
    "def bgr8_to_jpeg(value, quality=75):\n",
    "    return bytes(cv2.imencode('.jpg', value)[1])"
   ]
  },
  {
   "cell_type": "code",
   "execution_count": null,
   "id": "ec1f45e9",
   "metadata": {
    "execution": {
     "iopub.execute_input": "2025-04-16T22:17:11.257250Z",
     "iopub.status.busy": "2025-04-16T22:17:11.256347Z",
     "iopub.status.idle": "2025-04-16T22:17:11.282700Z",
     "shell.execute_reply": "2025-04-16T22:17:11.279451Z",
     "shell.execute_reply.started": "2025-04-16T22:17:11.257164Z"
    }
   },
   "outputs": [],
   "source": [
    "# create the camera widget that will contain current camera \n",
    "image_widget = widgets.Image(format='jpeg', width=600, height=500)  \n",
    "display(image_widget)   "
   ]
  },
  {
   "cell_type": "code",
   "execution_count": null,
   "id": "eb1a7ff0",
   "metadata": {
    "execution": {
     "iopub.execute_input": "2025-04-16T22:17:12.307428Z",
     "iopub.status.busy": "2025-04-16T22:17:12.305922Z",
     "iopub.status.idle": "2025-04-16T22:17:12.621107Z",
     "shell.execute_reply": "2025-04-16T22:17:12.618170Z",
     "shell.execute_reply.started": "2025-04-16T22:17:12.307268Z"
    }
   },
   "outputs": [],
   "source": [
    "# Open up the camera using cv2 with the width and \n",
    "\n",
    "\n",
    "# Create the videocapture using usb camera\n",
    "image = cv2.VideoCapture(0)  #Open camera\n",
    "\n",
    "''' Here are the following options:\n",
    "0. CV_CAP_PROP_POS_MSEC Current position of the video file in milliseconds.\n",
    "1. CV_CAP_PROP_POS_FRAMES 0-based index of the frame to be decoded/captured next.\n",
    "2. CV_CAP_PROP_POS_AVI_RATIO Relative position of the video file\n",
    "3. CV_CAP_PROP_FRAME_WIDTH Width of the frames in the video stream.\n",
    "4. CV_CAP_PROP_FRAME_HEIGHT Height of the frames in the video stream.\n",
    "5. CV_CAP_PROP_FPS Frame rate.\n",
    "6. CV_CAP_PROP_FOURCC 4-character code of codec.\n",
    "'''"
   ]
  },
  {
   "cell_type": "markdown",
   "id": "11686b70",
   "metadata": {},
   "source": [
    "Extra options not used in code (commented out)\n",
    "<!-- \n",
    "7. CV_CAP_PROP_FRAME_COUNT Number of frames in the video file.\n",
    "8. CV_CAP_PROP_FORMAT Format of the Mat objects returned by retrieve() .\n",
    "9. CV_CAP_PROP_MODE Backend-specific value indicating the current capture mode.\n",
    " -->"
   ]
  },
  {
   "cell_type": "markdown",
   "id": "52755ea8",
   "metadata": {},
   "source": [
    "### Setting frame size and codec parameters for the video stream"
   ]
  },
  {
   "cell_type": "code",
   "execution_count": null,
   "id": "a02d5708",
   "metadata": {
    "execution": {
     "iopub.execute_input": "2025-04-16T22:17:15.384710Z",
     "iopub.status.busy": "2025-04-16T22:17:15.383823Z",
     "iopub.status.idle": "2025-04-16T22:17:15.411086Z",
     "shell.execute_reply": "2025-04-16T22:17:15.406244Z",
     "shell.execute_reply.started": "2025-04-16T22:17:15.384623Z"
    }
   },
   "outputs": [],
   "source": [
    "width=600\n",
    "height=500\n",
    "frame_rate=30\n",
    "\n",
    "# Example usage of constants and variables\n",
    "# cap.set(cv2.CAP_PROP_FRAME_WIDTH,width)\n",
    "# cap.set(cv2.CAP_PROP_FRAME_HEIGHT,height)\n",
    "\n",
    "# Example usage of number index if you don't want to use constant \n",
    "image.set(3,width)   # set width of the video frames\n",
    "image.set(4,height)  # set height of the video frames\n",
    "image.set(5, frame_rate)  # Set frame rate\n",
    "\n",
    "#  4-character code of codec used to compress the frames. \n",
    "'''\n",
    "For example:\n",
    "1. VideoWriter::fourcc('P','I','M','1') is a MPEG-1 codec \n",
    "2.VideoWriter::fourcc('M','J','P','G') is a motion-jpeg codec\n",
    "image.set(cv2.CAP_PROP_FOURCC, cv2.VideoWriter.fourcc('M', 'J', 'P', 'G'))\n",
    "'''\n",
    "# also can use constant 6\n",
    "image.set(6, cv2.VideoWriter.fourcc('M', 'J', 'P', 'G'))"
   ]
  },
  {
   "cell_type": "markdown",
   "id": "b0d0bce3",
   "metadata": {},
   "source": [
    "### Setting brightness/contrast/exposure of the camera stream\n",
    "\n",
    "- Settings configured\n",
    "    10. CV_CAP_PROP_BRIGHTNESS Brightness of the image (only for cameras).\n",
    "    11. CV_CAP_PROP_CONTRAST Contrast of the image (only for cameras).\n",
    "    12. CV_CAP_PROP_SATURATION Saturation of the image (only for cameras).\n",
    "    "
   ]
  },
  {
   "cell_type": "code",
   "execution_count": null,
   "id": "fb2e0cec",
   "metadata": {
    "execution": {
     "iopub.execute_input": "2025-04-16T22:17:17.473951Z",
     "iopub.status.busy": "2025-04-16T22:17:17.471501Z",
     "iopub.status.idle": "2025-04-16T22:17:17.526480Z",
     "shell.execute_reply": "2025-04-16T22:17:17.518889Z",
     "shell.execute_reply.started": "2025-04-16T22:17:17.473719Z"
    }
   },
   "outputs": [],
   "source": [
    "image.set(cv2.CAP_PROP_BRIGHTNESS, 40) #set brightness -64 - 64  0.0\n",
    "image.set(cv2.CAP_PROP_CONTRAST, 50)   #set contrast -64 - 64  2.0\n",
    "image.set(cv2.CAP_PROP_EXPOSURE, 156)  #set exposure 1.0 - 5000  156.0"
   ]
  },
  {
   "cell_type": "markdown",
   "id": "3000cdfb",
   "metadata": {},
   "source": [
    "- Other image conversion options (not configured):\n",
    "\n",
    "    13. CV_CAP_PROP_HUE Hue of the image (only for cameras).\n",
    "    14. CV_CAP_PROP_GAIN Gain of the image (only for cameras).\n",
    "    15. CV_CAP_PROP_EXPOSURE Exposure (only for cameras).\n",
    "    16. CV_CAP_PROP_CONVERT_RGB Boolean flags indicating whether images should be converted to RGB.\n",
    "    17. CV_CAP_PROP_WHITE_BALANCE Currently unsupported\n",
    "    18. CV_CAP_PROP_RECTIFICATION Rectification flag for stereo cameras (note: only supported by DC1394 v 2.x backend currently)"
   ]
  },
  {
   "cell_type": "code",
   "execution_count": null,
   "id": "d37bac9c",
   "metadata": {
    "execution": {
     "iopub.execute_input": "2025-04-16T22:17:19.328433Z",
     "iopub.status.busy": "2025-04-16T22:17:19.327390Z",
     "iopub.status.idle": "2025-04-16T22:17:20.432802Z",
     "shell.execute_reply": "2025-04-16T22:17:20.427461Z",
     "shell.execute_reply.started": "2025-04-16T22:17:19.328336Z"
    }
   },
   "outputs": [],
   "source": [
    "# read the camera data and return a boolean if it read correctly and the frame itself\n",
    "ret, frame = image.read()     #Read camera data\n",
    "\n",
    "# add the adjusted frame to the image_widget with jpeg format (for easy accessibility)\n",
    "image_widget.value = bgr8_to_jpeg(frame) # convert the frame to jpeg"
   ]
  },
  {
   "cell_type": "markdown",
   "id": "83716578",
   "metadata": {
    "jupyter": {
     "source_hidden": true
    }
   },
   "source": [
    "# Servo\n"
   ]
  },
  {
   "cell_type": "markdown",
   "id": "dc6b3ba3",
   "metadata": {},
   "source": [
    "\n",
    "### Program functions:\n",
    "\n",
    "Servos:\n",
    "1. No. 1 Servo: \n",
    "    - Directions:  The left and right directions control the left and right movement of the No. 1 servo\n",
    "    - Max-Min Range: \n",
    "    - Adjusted Range of Safe Movement\n",
    "\n",
    "\n",
    "2. No. 2 Servo\n",
    "    - Directions:  The up and down directions control the forward and backward movement of the No. 2 servo.\n",
    "\n",
    "3. No. 3 Servo\n",
    "    - Directions: The No. 3 servo control to move forward or backward.\n",
    "    - \n",
    "\n",
    "4. No. 4 Servo\n",
    "    - Directions: the No. 4 servo to move forward or backward.\n",
    "\n",
    "> Note: we will not use the No. 5 and No. 6 Servo for the sake of the experiment (commented below for reference)\n",
    "<!-- 2. The right joystick and number keys control the No. 5 and No. 6 servos. The left and right directions control the left and right rotation of the No. 5 servo, and the up and down directions control the clamping and loosening of the No. 6 servo.\n",
    " -->\n"
   ]
  },
  {
   "cell_type": "markdown",
   "id": "2f745438",
   "metadata": {},
   "source": [
    "## Reading All Servos\n"
   ]
  },
  {
   "cell_type": "code",
   "execution_count": null,
   "id": "b379aec6",
   "metadata": {},
   "outputs": [],
   "source": [
    "#!/usr/bin/env python3\n",
    "#coding=utf-8\n",
    "import time\n",
    "from Arm_Lib import Arm_Device\n",
    "\n",
    "# Get DOFBOT object\n",
    "Arm = Arm_Device()\n",
    "time.sleep(.1)\n",
    "print(\"Arm Device is ready\")\n",
    "\n",
    "##############################STOPPPED HERE, NEED TO DEBUG THE BUTTON CAMERA WIDGET CODE##############################"
   ]
  },
  {
   "cell_type": "code",
   "execution_count": null,
   "id": "384850a9",
   "metadata": {},
   "outputs": [],
   "source": [
    "\n",
    "\n",
    "import cv2 as cv\n",
    "import threading\n",
    "from time import sleep\n",
    "import ipywidgets as widgets\n",
    "from IPython.display import display\n"
   ]
  },
  {
   "cell_type": "code",
   "execution_count": null,
   "id": "408b1b51",
   "metadata": {},
   "outputs": [],
   "source": [
    "button_layout = widgets.Layout(width='250px', height='50px', align_self='center')\n",
    "output = widgets.Output()\n",
    "# 退出控件 exit button\n",
    "exit_button = widgets.Button(description='Exit', button_style='danger', layout=button_layout)\n",
    "# 图像控件 Image widget\n",
    "imgbox = widgets.Image(format='jpg', height=480, width=640, layout=widgets.Layout(align_self='center'))\n",
    "# 空间布局 spatial distribution\n",
    "controls_box = widgets.VBox([imgbox, exit_button], layout=widgets.Layout(align_self='center'))\n",
    "# ['auto', 'flex-start', 'flex-end', 'center', 'baseline', 'stretch', 'inherit', 'initial', 'unset']"
   ]
  },
  {
   "cell_type": "code",
   "execution_count": null,
   "id": "20d25113",
   "metadata": {},
   "outputs": [],
   "source": [
    "def exit_button_Callback(value):\n",
    "    global model\n",
    "    model = 'Exit'\n",
    "#     with output: print(model)\n",
    "exit_button.on_click(exit_button_Callback)"
   ]
  },
  {
   "cell_type": "code",
   "execution_count": null,
   "id": "5aa781db",
   "metadata": {},
   "outputs": [],
   "source": [
    "def camera():\n",
    "    global model\n",
    "    # 打开摄像头 Open camera\n",
    "    capture = cv.VideoCapture(0)\n",
    "    while capture.isOpened():\n",
    "        try:\n",
    "            _, img = capture.read()\n",
    "            img = cv.resize(img, (640, 480))\n",
    "            if model == 'Exit':\n",
    "                cv.destroyAllWindows()\n",
    "                capture.release()\n",
    "                break\n",
    "            imgbox.value = cv.imencode('.jpg', img)[1].tobytes()\n",
    "        except KeyboardInterrupt:capture.release()"
   ]
  },
  {
   "cell_type": "code",
   "execution_count": null,
   "id": "9482d1e3",
   "metadata": {},
   "outputs": [],
   "source": [
    "display(controls_box,output)\n",
    "threading.Thread(target=camera, ).start()\n",
    "\n",
    "\n",
    "#######END OF WHERE I STOPPED NEED TO CONFIGURE EXIT BUTTON AND MAKE MULTIPLE THAT WORK WITH SERVO CODE##########"
   ]
  },
  {
   "cell_type": "markdown",
   "id": "8b3a7053",
   "metadata": {},
   "source": [
    "## Reading all servos and printing out current positional angle"
   ]
  },
  {
   "cell_type": "markdown",
   "id": "3e0a07fd",
   "metadata": {},
   "source": [
    "### Old code (while loop not best)"
   ]
  },
  {
   "cell_type": "code",
   "execution_count": null,
   "id": "823c4f9d",
   "metadata": {},
   "outputs": [],
   "source": [
    "# #\n",
    "# # Read angle of all servo and printf continuously\n",
    "# def main():\n",
    "\n",
    "#     while True:\n",
    "#         # 6 servos\n",
    "#         # 1: Base\n",
    "#         # 2: Shoulder\n",
    "#         # 3: Elbow\n",
    "#         # 4: Wrist1\n",
    "#         # 5: Wrist2\n",
    "#         # 6: Gripper\n",
    "#         for i in range(6):\n",
    "#             aa = Arm.Arm_serial_servo_read(i+1)\n",
    "#             print('id = '+ str(i+1))\n",
    "#             print(aa)\n",
    "#             time.sleep(.01)\n",
    "#         time.sleep(.5)\n",
    "#         print(\" END OF LINE! \\n\")\n"
   ]
  },
  {
   "cell_type": "code",
   "execution_count": null,
   "id": "ac9dc4a2",
   "metadata": {},
   "outputs": [],
   "source": []
  },
  {
   "cell_type": "code",
   "execution_count": null,
   "id": "37f8ab30",
   "metadata": {},
   "outputs": [
    {
     "name": "stdout",
     "output_type": "stream",
     "text": [
      "id = 1\n",
      "75\n",
      "id = 2\n",
      "135\n",
      "id = 3\n",
      "None\n",
      "id = 4\n",
      "None\n",
      "id = 5\n",
      "None\n",
      "id = 6\n",
      "None\n",
      " END OF LINE! \n",
      "\n",
      "id = 1\n",
      "75\n",
      "id = 2\n",
      "135\n",
      "id = 3\n",
      "None\n",
      "id = 4\n",
      "None\n",
      "id = 5\n",
      "None\n",
      "id = 6\n",
      "None\n",
      " END OF LINE! \n",
      "\n",
      "id = 1\n",
      "75\n",
      "id = 2\n",
      "135\n",
      "id = 3\n",
      "None\n",
      "id = 4\n",
      "None\n",
      "id = 5\n",
      "None\n",
      "id = 6\n",
      "None\n",
      " END OF LINE! \n",
      "\n",
      "id = 1\n",
      "75\n",
      "id = 2\n",
      "135\n",
      "id = 3\n",
      "None\n",
      "id = 4\n",
      "None\n",
      "id = 5\n",
      "None\n",
      "id = 6\n",
      "None\n",
      " END OF LINE! \n",
      "\n",
      "id = 1\n",
      "75\n",
      "id = 2\n",
      "135\n",
      "id = 3\n",
      "None\n",
      "id = 4\n",
      "None\n",
      "id = 5\n",
      "None\n",
      "id = 6\n",
      "None\n",
      " END OF LINE! \n",
      "\n",
      "id = 1\n",
      "75\n",
      "id = 2\n",
      "135\n",
      "id = 3\n",
      "None\n",
      "id = 4\n",
      "None\n",
      "id = 5\n",
      "None\n",
      "id = 6\n",
      "None\n",
      " END OF LINE! \n",
      "\n",
      "id = 1\n",
      "75\n",
      "id = 2\n",
      "135\n",
      "id = 3\n",
      "None\n",
      "id = 4\n",
      "None\n",
      "id = 5\n",
      "None\n",
      "id = 6\n",
      "None\n",
      " END OF LINE! \n",
      "\n",
      "id = 1\n",
      "75\n",
      "id = 2\n",
      "135\n",
      "id = 3\n",
      "None\n",
      "id = 4\n",
      "None\n",
      "id = 5\n",
      "None\n",
      "id = 6\n",
      "None\n",
      " END OF LINE! \n",
      "\n",
      "id = 1\n",
      "75\n",
      "id = 2\n",
      "135\n",
      "id = 3\n",
      "None\n",
      "id = 4\n",
      "None\n",
      "id = 5\n",
      "None\n",
      "id = 6\n",
      "None\n",
      " END OF LINE! \n",
      "\n",
      "id = 1\n",
      "75\n",
      "id = 2\n",
      "135\n",
      "id = 3\n",
      "None\n",
      "id = 4\n",
      "None\n",
      "id = 5\n",
      "None\n",
      "id = 6\n",
      "None\n",
      " END OF LINE! \n",
      "\n",
      "id = 1\n",
      "75\n",
      "id = 2\n",
      "135\n",
      "id = 3\n",
      "None\n",
      "id = 4\n",
      "None\n",
      "id = 5\n",
      "None\n",
      "id = 6\n",
      "None\n",
      " END OF LINE! \n",
      "\n",
      "id = 1\n",
      "75\n",
      "id = 2\n",
      "135\n",
      "id = 3\n",
      "None\n",
      "id = 4\n",
      "None\n",
      "id = 5\n",
      "None\n",
      "id = 6\n",
      "None\n",
      " END OF LINE! \n",
      "\n",
      "id = 1\n",
      "75\n",
      "id = 2\n",
      "135\n",
      "id = 3\n",
      "None\n",
      "id = 4\n",
      "None\n",
      "id = 5\n",
      "None\n",
      "id = 6\n",
      "None\n",
      " END OF LINE! \n",
      "\n",
      "id = 1\n",
      "75\n",
      "id = 2\n",
      "135\n",
      "id = 3\n",
      "None\n",
      "id = 4\n",
      "None\n",
      "id = 5\n",
      "None\n",
      "id = 6\n",
      "None\n",
      " END OF LINE! \n",
      "\n",
      "id = 1\n",
      "75\n",
      "id = 2\n",
      "135\n",
      "id = 3\n",
      "None\n",
      "id = 4\n",
      "None\n",
      "id = 5\n",
      "None\n",
      "id = 6\n",
      "None\n",
      " END OF LINE! \n",
      "\n",
      "id = 1\n",
      "75\n",
      "id = 2\n",
      "135\n",
      "id = 3\n",
      "None\n",
      "id = 4\n",
      "None\n",
      "id = 5\n",
      "None\n",
      "id = 6\n",
      "None\n",
      " END OF LINE! \n",
      "\n",
      "id = 1\n",
      "75\n",
      "id = 2\n",
      "135\n",
      "id = 3\n",
      "None\n",
      "id = 4\n",
      "None\n",
      "id = 5\n",
      "None\n",
      "id = 6\n",
      "None\n",
      " END OF LINE! \n",
      "\n",
      "id = 1\n",
      "75\n",
      "id = 2\n",
      "135\n",
      "id = 3\n",
      "None\n",
      "id = 4\n",
      "None\n",
      "id = 5\n",
      "None\n",
      "id = 6\n",
      "None\n",
      " END OF LINE! \n",
      "\n",
      "id = 1\n",
      "75\n",
      "id = 2\n",
      "135\n",
      "id = 3\n",
      "None\n",
      "id = 4\n",
      "None\n",
      "id = 5\n",
      "None\n",
      "id = 6\n",
      "None\n",
      " END OF LINE! \n",
      "\n",
      "id = 1\n",
      "75\n",
      "id = 2\n",
      "135\n",
      "id = 3\n",
      "None\n",
      "id = 4\n",
      "None\n",
      "id = 5\n",
      "None\n",
      "id = 6\n",
      "None\n",
      " END OF LINE! \n",
      "\n",
      "id = 1\n",
      "75\n",
      "id = 2\n",
      "135\n",
      "id = 3\n",
      "None\n",
      "id = 4\n",
      "None\n",
      "id = 5\n",
      "None\n",
      "id = 6\n",
      "None\n",
      " END OF LINE! \n",
      "\n",
      "id = 1\n",
      "75\n",
      "id = 2\n",
      "135\n",
      "id = 3\n",
      "None\n",
      "id = 4\n",
      "None\n",
      "id = 5\n",
      "None\n",
      "id = 6\n",
      "None\n",
      " END OF LINE! \n",
      "\n",
      "id = 1\n",
      "75\n",
      "id = 2\n",
      "135\n",
      "id = 3\n",
      "None\n",
      "id = 4\n",
      "None\n",
      "id = 5\n",
      "None\n",
      "id = 6\n",
      "None\n",
      " END OF LINE! \n",
      "\n",
      "id = 1\n",
      "75\n",
      "id = 2\n",
      "135\n",
      "id = 3\n",
      "None\n",
      "id = 4\n",
      "None\n",
      "id = 5\n",
      "None\n",
      "id = 6\n",
      "None\n",
      " END OF LINE! \n",
      "\n",
      "id = 1\n",
      "75\n",
      "id = 2\n",
      "135\n",
      "id = 3\n",
      "None\n",
      "id = 4\n",
      "None\n",
      "id = 5\n",
      "None\n",
      "id = 6\n",
      "None\n",
      " END OF LINE! \n",
      "\n",
      "id = 1\n",
      "75\n",
      "id = 2\n",
      "135\n",
      "id = 3\n",
      "None\n",
      "id = 4\n",
      "None\n",
      "id = 5\n",
      "None\n",
      "id = 6\n",
      "None\n",
      " END OF LINE! \n",
      "\n",
      "id = 1\n",
      "75\n",
      "id = 2\n",
      "135\n",
      "id = 3\n",
      "None\n",
      "id = 4\n",
      "None\n",
      "id = 5\n",
      "None\n",
      "id = 6\n",
      "None\n",
      " END OF LINE! \n",
      "\n",
      "id = 1\n",
      "75\n",
      "id = 2\n",
      "135\n",
      "id = 3\n",
      "None\n",
      "id = 4\n",
      "None\n",
      "id = 5\n",
      "None\n",
      "id = 6\n",
      "None\n",
      " END OF LINE! \n",
      "\n",
      "id = 1\n",
      "75\n",
      "id = 2\n",
      "135\n",
      "id = 3\n",
      "None\n",
      "id = 4\n",
      "None\n",
      "id = 5\n",
      "None\n",
      "id = 6\n",
      "None\n",
      " END OF LINE! \n",
      "\n",
      "id = 1\n",
      "75\n",
      "id = 2\n",
      "135\n",
      "id = 3\n",
      "None\n",
      "id = 4\n",
      "None\n",
      "id = 5\n",
      "None\n",
      "id = 6\n",
      "None\n",
      " END OF LINE! \n",
      "\n",
      "id = 1\n",
      "75\n",
      "id = 2\n",
      "135\n",
      "id = 3\n",
      "None\n",
      "id = 4\n",
      "None\n",
      "id = 5\n",
      "None\n",
      "id = 6\n",
      "None\n",
      " Program closed! \n"
     ]
    }
   ],
   "source": [
    "# # Read angle of all servo and printf\n",
    "# def main():\n",
    "\n",
    "#     while True:\n",
    "#         for i in range(6):\n",
    "#             aa = Arm.Arm_serial_servo_read(i+1)\n",
    "#             print('id = '+ str(i+1))\n",
    "#             print(aa)\n",
    "#             time.sleep(.01)\n",
    "#         time.sleep(.5)\n",
    "#         print(\" END OF LINE! \\n\")\n",
    "\n",
    "    \n",
    "# try :\n",
    "#     main()\n",
    "# except KeyboardInterrupt:\n",
    "#     print(\" Program closed! \")\n",
    "#     pass"
   ]
  },
  {
   "cell_type": "code",
   "execution_count": null,
   "id": "c5699d08",
   "metadata": {},
   "outputs": [
    {
     "name": "stdout",
     "output_type": "stream",
     "text": [
      "70\n"
     ]
    }
   ],
   "source": [
    "# After controlling the movement of a servo individually, read its angle\n",
    "id = 1\n",
    "angle = 70\n",
    "\n",
    "Arm.Arm_serial_servo_write(id, angle, 500)\n",
    "time.sleep(1)\n",
    "\n",
    "aa = Arm.Arm_serial_servo_read(id)\n",
    "print(aa)\n",
    "\n",
    "time.sleep(.5)\n",
    "\n"
   ]
  },
  {
   "cell_type": "code",
   "execution_count": null,
   "id": "cebf9c14",
   "metadata": {},
   "outputs": [],
   "source": [
    "del Arm  # Release DOFBOT object"
   ]
  },
  {
   "cell_type": "code",
   "execution_count": null,
   "id": "35262922",
   "metadata": {},
   "outputs": [],
   "source": [
    "button_layout = widgets.Layout(width='250px', height='50px', align_self='center')\n",
    "output = widgets.Output()\n",
    "# 退出控件 exit button\n",
    "exit_button = widgets.Button(description='Servo 1', button_style='danger', layout=button_layout)\n",
    "# 图像控件 Image widget\n",
    "imgbox = widgets.Image(format='jpg', height=480, width=640, layout=widgets.Layout(align_self='center'))\n",
    "# 空间布局 spatial distribution\n",
    "controls_box = widgets.VBox([imgbox, exit_button], layout=widgets.Layout(align_self='center'))\n",
    "# ['auto', 'flex-start', 'flex-end', 'center', 'baseline', 'stretch', 'inherit', 'initial', 'unset']"
   ]
  },
  {
   "cell_type": "code",
   "execution_count": null,
   "id": "2936e05d",
   "metadata": {},
   "outputs": [],
   "source": []
  },
  {
   "cell_type": "markdown",
   "id": "88f6da1d",
   "metadata": {},
   "source": [
    "### test code (buttons working, not connected to thread)"
   ]
  },
  {
   "cell_type": "code",
   "execution_count": null,
   "id": "71ce29b1",
   "metadata": {},
   "outputs": [],
   "source": [
    " \n",
    "# try :\n",
    "#     main()\n",
    "# except KeyboardInterrupt:\n",
    "#     print(\" Program closed! \")\n",
    "#     pass\n",
    "\n",
    "# Create a widget with 6 buttons to control each servo\n",
    "servo_buttons = []\n",
    "for i in range(6):\n",
    "    button = widgets.Button(description=f\"Servo {i+1}\")\n",
    "    servo_buttons.append(button)\n",
    "\n",
    "# Display the buttons\n",
    "servo_box = widgets.HBox(servo_buttons)\n",
    "display(servo_box)\n",
    "\n",
    "# Define button click event handlers\n",
    "def on_button_click(button):\n",
    "    servo_id = int(button.description.split()[-1])  # Extract servo ID from button description\n",
    "    angle = Arm.Arm_serial_servo_read(servo_id)\n",
    "    print(f\"Servo ID: {servo_id}, Current Angle: {angle}\")\n",
    "\n",
    "# Attach event handlers to buttons\n",
    "for button in servo_buttons:\n",
    "    button.on_click(on_button_click)\n",
    "#id = 1\n",
    "#angle = 70\n",
    "\n",
    "#Arm.Arm_serial_servo_write(id, angle, 500)\n",
    "#time.sleep(1)\n",
    "\n",
    "aa = Arm.Arm_serial_servo_read(id)\n",
    "print(aa)\n",
    "\n",
    "time.sleep(.5)\n",
    "\n"
   ]
  },
  {
   "cell_type": "code",
   "execution_count": null,
   "id": "5873d1f3",
   "metadata": {},
   "outputs": [],
   "source": [
    "\n",
    "del Arm  # Release DOFBOT object"
   ]
  },
  {
   "cell_type": "markdown",
   "id": "c0e2c5f7",
   "metadata": {
    "jupyter": {
     "source_hidden": true
    }
   },
   "source": [
    "### Testing No. 1 Servo (left and Right)"
   ]
  },
  {
   "cell_type": "markdown",
   "id": "604feb80",
   "metadata": {
    "jupyter": {
     "source_hidden": true
    }
   },
   "source": [
    "## Widget Group 1: Create python widget with 2 button for each servo step \n",
    "This will be used to see how the servos work in conjunction to movement which will help create low-level code to configure"
   ]
  },
  {
   "cell_type": "markdown",
   "id": "4b988b1c",
   "metadata": {
    "jupyter": {
     "source_hidden": true
    }
   },
   "source": [
    "## Widget Group 2: Create python widget with only 4 main directional buttons to mimic the common movement of human neck (up, down, left, right) without individual servo buttons \n",
    "This will be used to narrow down the basic movements that don't factor in the individual servos (but still will output logs) as humans don't take into considerations of the individual muscles when looking at an opject."
   ]
  },
  {
   "cell_type": "markdown",
   "id": "e265050f",
   "metadata": {
    "jupyter": {
     "source_hidden": true
    }
   },
   "source": [
    "## Test Full functionality"
   ]
  },
  {
   "cell_type": "markdown",
   "id": "02318c57",
   "metadata": {
    "jupyter": {
     "source_hidden": true
    }
   },
   "source": [
    "## Shut down camera, arm, and widgets"
   ]
  }
 ],
 "metadata": {
  "kernelspec": {
   "display_name": "Python 3",
   "language": "python",
   "name": "python3"
  },
  "language_info": {
   "codemirror_mode": {
    "name": "ipython",
    "version": 3
   },
   "file_extension": ".py",
   "mimetype": "text/x-python",
   "name": "python",
   "nbconvert_exporter": "python",
   "pygments_lexer": "ipython3",
   "version": "3.8.10"
  }
 },
 "nbformat": 4,
 "nbformat_minor": 5
}
