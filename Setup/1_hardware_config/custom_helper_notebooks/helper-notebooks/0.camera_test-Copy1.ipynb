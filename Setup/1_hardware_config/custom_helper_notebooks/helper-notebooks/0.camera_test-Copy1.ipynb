{
 "cells": [
  {
   "cell_type": "code",
   "execution_count": 1,
   "metadata": {
    "execution": {
     "iopub.execute_input": "2025-04-16T21:38:27.121493Z",
     "iopub.status.busy": "2025-04-16T21:38:27.120600Z",
     "iopub.status.idle": "2025-04-16T21:38:27.605720Z",
     "shell.execute_reply": "2025-04-16T21:38:27.597911Z",
     "shell.execute_reply.started": "2025-04-16T21:38:27.121402Z"
    }
   },
   "outputs": [],
   "source": [
    "import cv2\n",
    "import ipywidgets.widgets as widgets\n",
    "import threading\n",
    "import time\n",
    "                                            "
   ]
  },
  {
   "cell_type": "code",
   "execution_count": 2,
   "metadata": {
    "execution": {
     "iopub.execute_input": "2025-04-16T21:38:28.175892Z",
     "iopub.status.busy": "2025-04-16T21:38:28.174744Z",
     "iopub.status.idle": "2025-04-16T21:38:28.187044Z",
     "shell.execute_reply": "2025-04-16T21:38:28.183759Z",
     "shell.execute_reply.started": "2025-04-16T21:38:28.175798Z"
    }
   },
   "outputs": [],
   "source": [
    "import enum\n",
    "import cv2\n",
    "\n",
    "def bgr8_to_jpeg(value, quality=75):\n",
    "    return bytes(cv2.imencode('.jpg', value)[1])"
   ]
  },
  {
   "cell_type": "code",
   "execution_count": 3,
   "metadata": {
    "execution": {
     "iopub.execute_input": "2025-04-16T21:38:28.917486Z",
     "iopub.status.busy": "2025-04-16T21:38:28.916527Z",
     "iopub.status.idle": "2025-04-16T21:38:28.941427Z",
     "shell.execute_reply": "2025-04-16T21:38:28.938394Z",
     "shell.execute_reply.started": "2025-04-16T21:38:28.917371Z"
    }
   },
   "outputs": [
    {
     "data": {
      "application/vnd.jupyter.widget-view+json": {
       "model_id": "c12cc421129a48329ddcda9280302295",
       "version_major": 2,
       "version_minor": 0
      },
      "text/plain": [
       "Image(value=b'', format='jpeg', height='500', width='600')"
      ]
     },
     "metadata": {},
     "output_type": "display_data"
    }
   ],
   "source": [
    "\n",
    "image_widget = widgets.Image(format='jpeg', width=600, height=500)  \n",
    "display(image_widget)   "
   ]
  },
  {
   "cell_type": "code",
   "execution_count": 4,
   "metadata": {
    "execution": {
     "iopub.execute_input": "2025-04-16T21:38:30.566560Z",
     "iopub.status.busy": "2025-04-16T21:38:30.564809Z",
     "iopub.status.idle": "2025-04-16T21:38:31.934947Z",
     "shell.execute_reply": "2025-04-16T21:38:31.930608Z",
     "shell.execute_reply.started": "2025-04-16T21:38:30.566389Z"
    }
   },
   "outputs": [],
   "source": [
    "image = cv2.VideoCapture(0)                           #Open camera\n",
    "\n",
    "width=600\n",
    "height=500\n",
    "# cap.set(cv2.CAP_PROP_FRAME_WIDTH,width)\n",
    "# cap.set(cv2.CAP_PROP_FRAME_HEIGHT,height)\n",
    "\n",
    "image.set(3,600)       \n",
    "image.set(4,500)\n",
    "image.set(5, 30)  #Set frame rate\n",
    "image.set(cv2.CAP_PROP_FOURCC, cv2.VideoWriter.fourcc('M', 'J', 'P', 'G'))\n",
    "image.set(cv2.CAP_PROP_BRIGHTNESS, 40) #set brightness -64 - 64  0.0\n",
    "image.set(cv2.CAP_PROP_CONTRAST, 50)   #set contrast -64 - 64  2.0\n",
    "image.set(cv2.CAP_PROP_EXPOSURE, 156)  #set exposure 1.0 - 5000  156.0\n",
    "\n",
    "ret, frame = image.read()     #Read camera data\n",
    "image_widget.value = bgr8_to_jpeg(frame)"
   ]
  },
  {
   "cell_type": "code",
   "execution_count": 5,
   "metadata": {
    "execution": {
     "iopub.execute_input": "2025-04-16T21:38:40.255591Z",
     "iopub.status.busy": "2025-04-16T21:38:40.254663Z",
     "iopub.status.idle": "2025-04-16T21:38:46.254151Z",
     "shell.execute_reply": "2025-04-16T21:38:46.250609Z",
     "shell.execute_reply.started": "2025-04-16T21:38:40.255461Z"
    }
   },
   "outputs": [
    {
     "name": "stdout",
     "output_type": "stream",
     "text": [
      " Program closed! \n"
     ]
    }
   ],
   "source": [
    "try:\n",
    "    while 1:\n",
    "        ret, frame = image.read()\n",
    "        image_widget.value = bgr8_to_jpeg(frame)\n",
    "        time.sleep(0.010)\n",
    "except KeyboardInterrupt:\n",
    "    print(\" Program closed! \")\n",
    "    pass"
   ]
  },
  {
   "cell_type": "code",
   "execution_count": 6,
   "metadata": {
    "execution": {
     "iopub.execute_input": "2025-04-16T21:38:46.259313Z",
     "iopub.status.busy": "2025-04-16T21:38:46.258033Z",
     "iopub.status.idle": "2025-04-16T21:38:46.272963Z",
     "shell.execute_reply": "2025-04-16T21:38:46.270202Z",
     "shell.execute_reply.started": "2025-04-16T21:38:46.259195Z"
    }
   },
   "outputs": [],
   "source": [
    "image.release()"
   ]
  },
  {
   "cell_type": "code",
   "execution_count": null,
   "metadata": {},
   "outputs": [],
   "source": []
  },
  {
   "cell_type": "code",
   "execution_count": null,
   "metadata": {
    "execution": {
     "iopub.execute_input": "2025-04-16T21:38:46.279953Z",
     "iopub.status.busy": "2025-04-16T21:38:46.278722Z"
    }
   },
   "outputs": [],
   "source": [
    "import cv2\n",
    "\n",
    "cam = cv2.VideoCapture(0)\n",
    "\n",
    "while True:\n",
    "\tret, image = cam.read()\n",
    "\tcv2.imshow('Imagetest',image)\n",
    "\tk = cv2.waitKey(1)\n",
    "\tif k != -1:\n",
    "\t\tbreak\n",
    "cv2.imwrite('/home/pi/testimage.jpg', image)\n",
    "cam.release()\n",
    "cv2.destroyAllWindows()"
   ]
  },
  {
   "cell_type": "code",
   "execution_count": null,
   "metadata": {},
   "outputs": [],
   "source": []
  },
  {
   "cell_type": "code",
   "execution_count": null,
   "metadata": {},
   "outputs": [],
   "source": []
  }
 ],
 "metadata": {
  "kernelspec": {
   "display_name": "3.13.0",
   "language": "python",
   "name": "python3"
  },
  "language_info": {
   "codemirror_mode": {
    "name": "ipython",
    "version": 3
   },
   "file_extension": ".py",
   "mimetype": "text/x-python",
   "name": "python",
   "nbconvert_exporter": "python",
   "pygments_lexer": "ipython3",
   "version": "3.13.0"
  },
  "widgets": {
   "application/vnd.jupyter.widget-state+json": {
    "state": {
     "26c32b9131954f6eae865f8329c8635d": {
      "model_module": "@jupyter-widgets/controls",
      "model_module_version": "1.5.0",
      "model_name": "ImageModel",
      "state": {
       "format": "jpeg",
       "height": "500",
       "layout": "IPY_MODEL_c096bc2095f4431b869c4eb04c540b6c",
       "width": "600"
      }
     },
     "c096bc2095f4431b869c4eb04c540b6c": {
      "model_module": "@jupyter-widgets/base",
      "model_module_version": "1.2.0",
      "model_name": "LayoutModel",
      "state": {}
     }
    },
    "version_major": 2,
    "version_minor": 0
   }
  }
 },
 "nbformat": 4,
 "nbformat_minor": 4
}
