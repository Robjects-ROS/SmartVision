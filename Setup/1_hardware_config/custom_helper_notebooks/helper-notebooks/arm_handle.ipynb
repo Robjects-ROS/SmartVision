{
 "cells": [
  {
   "cell_type": "markdown",
   "metadata": {},
   "source": [
    "# handle remote control\n",
    "In this example we will remotely control a robotic arm using a gamepad controller connected to a web browser machine."
   ]
  },
  {
   "cell_type": "markdown",
   "metadata": {},
   "source": [
    "\n",
    "### Create a handle controller\n",
    "The first thing we need to do is create an instance of the 'Controller' widget, which we will use to drive our Jetbot.\n",
    "The \"Controller\" widget accepts an \"index\" parameter, which specifies the number of controllers. This is useful if you have multiple controllers, or some gamepads come in the form of multiple controllers. Want to use your controller correctly to control\n",
    "For the robotic arm you need:\n",
    "1. Open this webpage [http://html5gamepad.com](http://html5gamepad.com).\n",
    "2. Press the button of the controller you are using\n",
    "3. Remember the corresponding index number that pops up when you press the button\n",
    "\n",
    "Next, we will use this index to create and display the controller."
   ]
  },
  {
   "cell_type": "code",
   "execution_count": null,
   "metadata": {},
   "outputs": [
    {
     "data": {
      "application/vnd.jupyter.widget-view+json": {
       "model_id": "c11875a154bb400898a9aea6efb7c528",
       "version_major": 2,
       "version_minor": 0
      },
      "text/plain": [
       "Controller()"
      ]
     },
     "metadata": {},
     "output_type": "display_data"
    }
   ],
   "source": [
    "import ipywidgets.widgets as widgets\n",
    "controller = widgets.Controller(index=0)  # Replace with the index number of the controller you just tested and are using\n",
    "display(controller)"
   ]
  },
  {
   "cell_type": "code",
   "execution_count": null,
   "metadata": {},
   "outputs": [],
   "source": [
    "# Import library paths\n",
    "import threading\n",
    "import time\n",
    "# Thread operation library\n",
    "import inspect\n",
    "import ctypes\n",
    "# Import robotic arm object\n",
    "from Arm_Lib import Arm_Device\n",
    "Arm = Arm_Device()"
   ]
  },
  {
   "cell_type": "code",
   "execution_count": null,
   "metadata": {},
   "outputs": [],
   "source": [
    "# Create a method to actively stop a thread\n",
    "def _async_raise(tid, exctype):\n",
    "    \"\"\"raises the exception, performs cleanup if needed\"\"\"\n",
    "    tid = ctypes.c_long(tid)\n",
    "    if not inspect.isclass(exctype):\n",
    "        exctype = type(exctype)\n",
    "    res = ctypes.pythonapi.PyThreadState_SetAsyncExc(tid, ctypes.py_object(exctype))\n",
    "    if res == 0:\n",
    "        raise ValueError(\"invalid thread id\")\n",
    "    elif res != 1:\n",
    "        # \"\"\"if it returns a number greater than one, you're in trouble,\n",
    "        # and you should call it again with exc=NULL to revert the effect\"\"\"\n",
    "        ctypes.pythonapi.PyThreadState_SetAsyncExc(tid, None)\n",
    "        \n",
    "def stop_thread(thread):\n",
    "    _async_raise(thread.ident, SystemExit)"
   ]
  },
  {
   "cell_type": "markdown",
   "metadata": {},
   "source": [
    "\n",
    "# Create a method for controlling the movement of the robotic arm using a joystick\n",
    "## If the simulation mode of the handle is turned on, that is, when the red light is on, the left direction keys cannot be used. Please use the left and right joysticks and the keys on both sides of LR to control the robotic arm.\n",
    "\n",
    "## Program functions:\n",
    "1. The left joystick and direction keys control the No. 1 and No. 2 servo. The left and right directions control the left and right movement of the No. 1 servo, and the up and down directions control the forward and backward movement of the No. 2 servo.\n",
    "2. The right joystick and number keys control the No. 5 and No. 6 servos. The left and right directions control the left and right rotation of the No. 5 servo, and the up and down directions control the clamping and loosening of the No. 6 servo.\n",
    "3. L1 and L2 control the No. 3 servo to move forward or backward.\n",
    "4. R1 and R2 control the No. 4 servo to move forward or backward.\n",
    "5. Press the SELECT button to set all servo angles of the robotic arm to 90 degrees.\n"
   ]
  },
  {
   "cell_type": "code",
   "execution_count": null,
   "metadata": {},
   "outputs": [],
   "source": [
    "def Arm_Handle():\n",
    "    s_time = 500\n",
    "    s_step = 1\n",
    "    angle_1 = angle_2 = angle_3 = angle_4 =  angle_5 = angle_6 = 90\n",
    "    while 1:\n",
    "        # Due to individual differences in joystick controllers, the reset value of the joystick may not necessarily be zero. \n",
    "        # Therefore, a threshold of 0.1 is used as a filter to avoid accidental operations.\n",
    "        # Servo 2, A1 moves up negatively and down positively.\n",
    "        if controller.axes[1].value <= 0.1 and controller.axes[1].value >= -0.1:\n",
    "            time.sleep(.000001)\n",
    "        else:\n",
    "            if controller.axes[1].value > 0.1:\n",
    "                angle_2 += s_step\n",
    "            else:\n",
    "                angle_2 -= s_step\n",
    "            if angle_2 > 180:\n",
    "                angle_2 = 180\n",
    "            elif angle_2 < 0:\n",
    "                angle_2 = 0\n",
    "            Arm.Arm_serial_servo_write(2, angle_2, s_time)\n",
    "            time.sleep(0.01)\n",
    "\n",
    "        # Servo 1, A0 moves left negatively and right positively\n",
    "        if (controller.axes[0].value <= 0.1 and controller.axes[0].value >= -0.1):\n",
    "                time.sleep(.000001)\n",
    "        else:\n",
    "            if controller.axes[0].value > 0.1:\n",
    "                angle_1 -= s_step\n",
    "            else:\n",
    "                angle_1 += s_step\n",
    "                \n",
    "            if angle_1 > 180:\n",
    "                angle_1 = 180\n",
    "            elif angle_1 < 0:\n",
    "                angle_1 = 0\n",
    "            Arm.Arm_serial_servo_write(1, angle_1, s_time)\n",
    "            time.sleep(0.01)\n",
    "\n",
    "        # Servo 6, NUM1=B0, NUM3=B2, A2 moves up negatively and down positively\n",
    "        if controller.buttons[0].value == True:\n",
    "            angle_6 += s_step\n",
    "            if angle_6 > 180:\n",
    "                angle_6 = 180\n",
    "            elif angle_6 < 0:\n",
    "                angle_6 = 0\n",
    "            Arm.Arm_serial_servo_write(6, angle_6, s_time)\n",
    "            time.sleep(0.01)\n",
    "        elif controller.buttons[2].value == True:\n",
    "            angle_6 -= s_step\n",
    "            if angle_6 > 180:\n",
    "                angle_6 = 180\n",
    "            elif angle_6 < 0:\n",
    "                angle_6 = 0\n",
    "            Arm.Arm_serial_servo_write(6, angle_6, s_time)\n",
    "            time.sleep(0.01)\n",
    "        elif controller.axes[2].value > 0.5:\n",
    "            angle_6 -= s_step\n",
    "            if angle_6 > 180:\n",
    "                angle_6 = 180\n",
    "            elif angle_6 < 0:\n",
    "                angle_6 = 0\n",
    "            Arm.Arm_serial_servo_write(6, angle_6, s_time)\n",
    "            time.sleep(0.01)\n",
    "        elif controller.axes[2].value < -0.5:\n",
    "            angle_6 += s_step\n",
    "            if angle_6 > 180:\n",
    "                angle_6 = 180\n",
    "            elif angle_6 < 0:\n",
    "                angle_6 = 0\n",
    "            Arm.Arm_serial_servo_write(6, angle_6, s_time)\n",
    "            time.sleep(0.01)\n",
    "\n",
    "        # Servo 5, NUM2=B1, NUM4=B3, A5 moves left negatively and right positively\n",
    "        if controller.buttons[1].value == True:\n",
    "            angle_5 += s_step\n",
    "            if angle_5 > 180:\n",
    "                angle_5 = 180\n",
    "            elif angle_5 < 0:\n",
    "                angle_5 = 0\n",
    "            Arm.Arm_serial_servo_write(5, angle_5, s_time)\n",
    "            time.sleep(0.01)\n",
    "        elif controller.buttons[3].value == True:\n",
    "            angle_5 -= s_step\n",
    "            if angle_5 > 180:\n",
    "                angle_5 = 180\n",
    "            elif angle_5 < 0:\n",
    "                angle_5 = 0\n",
    "            Arm.Arm_serial_servo_write(5, angle_5, s_time)  \n",
    "            time.sleep(0.01)\n",
    "        elif controller.axes[5].value > 0.5:\n",
    "            angle_5 += s_step\n",
    "            if angle_5 > 180:\n",
    "                angle_5 = 180\n",
    "            elif angle_5 < 0:\n",
    "                angle_5 = 0\n",
    "            Arm.Arm_serial_servo_write(5, angle_5, s_time)\n",
    "            time.sleep(0.01)\n",
    "        elif controller.axes[5].value < -0.5:\n",
    "            angle_5 -= s_step\n",
    "            if angle_5 > 180:\n",
    "                angle_5 = 180\n",
    "            elif angle_5 < 0:\n",
    "                angle_5 = 0\n",
    "            Arm.Arm_serial_servo_write(5, angle_5, s_time)  \n",
    "            time.sleep(0.01)\n",
    "\n",
    "\n",
    "        # Servo 4, R1=B5, R2=B7   \n",
    "        if controller.buttons[5].value == True:\n",
    "            angle_4 -= s_step\n",
    "            if angle_4 > 180:\n",
    "                angle_4 = 180\n",
    "            elif angle_4 < 0:\n",
    "                angle_4 = 0\n",
    "            Arm.Arm_serial_servo_write(4, angle_4, s_time)\n",
    "            time.sleep(0.01)\n",
    "        elif controller.buttons[7].value == True:\n",
    "            angle_4 += s_step\n",
    "            if angle_4 > 180:\n",
    "                angle_4 = 180\n",
    "            elif angle_4 < 0:\n",
    "                angle_4 = 0\n",
    "            Arm.Arm_serial_servo_write(4, angle_4, s_time)  \n",
    "            time.sleep(0.01)\n",
    "\n",
    "        # Servo 3, L1=B4, L2=B6   \n",
    "        if controller.buttons[4].value == True:\n",
    "            angle_3 -= s_step\n",
    "            if angle_3 > 180:\n",
    "                angle_3 = 180\n",
    "            elif angle_3 < 0:\n",
    "                angle_3 = 0\n",
    "            Arm.Arm_serial_servo_write(3, angle_3, s_time)\n",
    "            time.sleep(0.01)\n",
    "        elif controller.buttons[6].value == True:\n",
    "            angle_3 += s_step\n",
    "            if angle_3 > 180:\n",
    "                angle_3 = 180\n",
    "            elif angle_3 < 0:\n",
    "                angle_3 = 0\n",
    "            Arm.Arm_serial_servo_write(3, angle_3, s_time)  \n",
    "            time.sleep(0.01)\n",
    "        \n",
    "        # Press the SELECT button B8 to set all servos of the robotic arm to 90 degrees\n",
    "        if controller.buttons[8].value == True:\n",
    "            angle_1 = angle_2 = angle_3 = angle_4 = angle_5 = angle_6 = 90\n",
    "            Arm.Arm_serial_servo_write6(90, 90, 90, 90, 90, 90, 1000)\n",
    "            time.sleep(1)\n",
    "            "
   ]
  },
  {
   "cell_type": "code",
   "execution_count": null,
   "metadata": {},
   "outputs": [],
   "source": [
    "# Run the code in the cell below to start the thread for real-time control of the robotic arm using the controller.\n",
    "# Once the controller thread starts, you can control the robotic arm using the controller.\n",
    "thread2 = threading.Thread(target=Arm_Handle)\n",
    "thread2.setDaemon(True)\n",
    "thread2.start()"
   ]
  },
  {
   "cell_type": "code",
   "execution_count": null,
   "metadata": {},
   "outputs": [],
   "source": [
    "# End the controller thread. If this cell is executed, the controller will no longer be able to control the robotic arm.\n",
    "# If the thread fails to start or stop,\n",
    "# please restart the kernel and run the steps from the beginning.\n",
    "stop_thread(thread2)"
   ]
  },
  {
   "cell_type": "code",
   "execution_count": null,
   "metadata": {},
   "outputs": [],
   "source": []
  }
 ],
 "metadata": {
  "kernelspec": {
   "display_name": "3.13.0",
   "language": "python",
   "name": "python3"
  },
  "language_info": {
   "codemirror_mode": {
    "name": "ipython",
    "version": 3
   },
   "file_extension": ".py",
   "mimetype": "text/x-python",
   "name": "python",
   "nbconvert_exporter": "python",
   "pygments_lexer": "ipython3",
   "version": "3.13.0"
  },
  "widgets": {
   "application/vnd.jupyter.widget-state+json": {
    "state": {
     "405ef4ccf1d642de82a761e7c35591dd": {
      "model_module": "@jupyter-widgets/base",
      "model_module_version": "1.2.0",
      "model_name": "LayoutModel",
      "state": {}
     },
     "e5c738355d2545ea8e4e208e9622f29b": {
      "model_module": "@jupyter-widgets/controls",
      "model_module_version": "1.5.0",
      "model_name": "ControllerModel",
      "state": {
       "layout": "IPY_MODEL_405ef4ccf1d642de82a761e7c35591dd"
      }
     }
    },
    "version_major": 2,
    "version_minor": 0
   }
  }
 },
 "nbformat": 4,
 "nbformat_minor": 4
}
