{
 "cells": [
  {
   "cell_type": "markdown",
   "metadata": {},
   "source": [
    "## Instructions to Run this Jupyter Notebook\n",
    "\n",
    "1. **Install Jupyter Notebook**: If you haven't installed Jupyter notebook on your machine, you can do so by running the following command in your terminal/command prompt:\n",
    "    ```\n",
    "    pip install notebook\n",
    "    ```\n",
    "    Note: If you have both Python 2 and Python 3 installed, you might need to use `pip3`.\n",
    "\n",
    "2. **Start Jupyter Notebook**: Navigate to the directory containing the notebook using terminal/command prompt and type:\n",
    "    ```\n",
    "    jupyter notebook\n",
    "    ```\n",
    "    This will start the Jupyter notebook server and open your default web browser to the Jupyter notebook interface.\n",
    "\n",
    "3. **Open the Notebook**: In the browser, you'll see a list of notebooks in the directory where you started the server. Click on the name of this notebook to open it.\n",
    "\n",
    "4. **Run the Notebook**: Once the notebook is open, you can run each cell individually by clicking on it and using the 'Run' button in the toolbar at the top, or by pressing `Shift + Enter`. You can also run all cells at once by clicking on 'Cell' -> 'Run All' in the toolbar.\n",
    "\n",
    "Remember to save your changes by clicking on 'File' -> 'Save and Checkpoint' in the toolbar.\n"
   ]
  },
  {
   "cell_type": "code",
   "execution_count": null,
   "metadata": {},
   "outputs": [],
   "source": [
    "# FILEPATH\n",
    "\n",
    "\"\"\"\n",
    "Instructions to Run this Jupyter Notebook\n",
    "\n",
    "1. Install Jupyter Notebook: If you haven't installed Jupyter notebook on your machine, you can do so by running the following command in your terminal/command prompt:\n"
   ]
  }
 ],
 "metadata": {
  "kernelspec": {
   "display_name": "3.6.15",
   "language": "python",
   "name": "python3"
  },
  "language_info": {
   "name": "python",
   "version": "3.6.15"
  }
 },
 "nbformat": 4,
 "nbformat_minor": 2
}
