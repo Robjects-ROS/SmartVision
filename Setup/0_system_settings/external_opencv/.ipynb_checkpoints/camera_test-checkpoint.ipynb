{
 "cells": [
  {
   "cell_type": "markdown",
   "metadata": {},
   "source": [
    "#### Working with the camera\n",
    "\n",
    "  1. Capture and create an image from the camera\n",
    "  2. Capture an image frame from the camera and display it in the notebook\n",
    "  3. Capture a video from the camera and display it in the notebook"
   ]
  },
  {
   "cell_type": "code",
   "execution_count": null,
   "metadata": {},
   "outputs": [],
   "source": [
    "`1. Capture and create an image from the camera`"
   ]
  },
  {
   "cell_type": "code",
   "execution_count": null,
   "metadata": {},
   "outputs": [],
   "source": [
    "import cv2\n",
    "\n",
    "\n",
    "# Create a VideoCapture object\n",
    "cap = cv2.VideoCapture(0)\n",
    "\n",
    "# Check if the camera is opened correctly\n",
    "if not cap.isOpened():\n",
    "    print(\"Error: Could not open camera.\")\n",
    "    exit()"
   ]
  },
  {
   "cell_type": "code",
   "execution_count": null,
   "metadata": {},
   "outputs": [],
   "source": [
    "# Capture a frame from the camera\n",
    "ret, frame = cap.read()\n",
    "\n",
    "# Check if the frame is captured correctly\n",
    "if not ret:\n",
    "    print(\"Error: Could not read frame.\")\n",
    "    exit()\n",
    "\n",
    "# Save the frame as an image\n",
    "cv2.imwrite(\"image.jpg\", frame)"
   ]
  },
  {
   "cell_type": "code",
   "execution_count": null,
   "metadata": {},
   "outputs": [],
   "source": [
    "# Release the VideoCapture object\n",
    "cap.release()"
   ]
  },
  {
   "cell_type": "code",
   "execution_count": null,
   "metadata": {},
   "outputs": [],
   "source": [
    "`2. Capture an image frame from the camera and display it in the notebook`"
   ]
  },
  {
   "cell_type": "code",
   "execution_count": null,
   "metadata": {},
   "outputs": [],
   "source": [
    "import cv2\n",
    "\n",
    "# Create a VideoCapture object\n",
    "cap = cv2.VideoCapture(0)\n",
    "\n",
    "# Check if the camera is opened correctly\n",
    "if not cap.isOpened():\n",
    "    print(\"Error: Could not open camera.\")\n",
    "    exit()"
   ]
  },
  {
   "cell_type": "code",
   "execution_count": null,
   "metadata": {},
   "outputs": [],
   "source": [
    "# Capture a frame from the camera\n",
    "ret, frame = cap.read()\n",
    "\n",
    "# Check if the frame is captured correctly\n",
    "if not ret:\n",
    "    print(\"Error: Could not read frame.\")\n",
    "    exit()\n",
    "\n",
    "# Save the frame as an image\n",
    "cv2.imwrite(\"image.jpg\", frame)"
   ]
  },
  {
   "cell_type": "code",
   "execution_count": null,
   "metadata": {},
   "outputs": [],
   "source": [
    "# Release the VideoCapture object\n",
    "cap.release()"
   ]
  },
  {
   "cell_type": "code",
   "execution_count": null,
   "metadata": {},
   "outputs": [],
   "source": [
    "import cv2\n",
    "\n",
    "# Create a VideoCapture object\n",
    "cap = cv2.VideoCapture(0)\n",
    "\n",
    "# Check if the camera is opened correctly\n",
    "if not cap.isOpened():\n",
    "    print(\"Error: Could not open camera.\")\n",
    "    exit()"
   ]
  },
  {
   "cell_type": "code",
   "execution_count": null,
   "metadata": {},
   "outputs": [],
   "source": [
    "# Capture a frame from the camera\n",
    "ret, frame = cap.read()\n",
    "\n",
    "# Check if the frame is captured correctly\n",
    "if not ret:\n",
    "    print(\"Error: Could not read frame.\")\n",
    "    exit()\n",
    "\n",
    "# Save the frame as an image\n",
    "cv2.imwrite(\"image.jpg\", frame)"
   ]
  },
  {
   "cell_type": "code",
   "execution_count": null,
   "metadata": {},
   "outputs": [],
   "source": [
    "# Release the VideoCapture object\n",
    "cap.release()"
   ]
  },
  {
   "cell_type": "code",
   "execution_count": null,
   "metadata": {},
   "outputs": [],
   "source": []
  }
 ],
 "metadata": {
  "kernelspec": {
   "display_name": "3.6.15",
   "language": "python",
   "name": "python3"
  },
  "language_info": {
   "codemirror_mode": {
    "name": "ipython",
    "version": 3
   },
   "file_extension": ".py",
   "mimetype": "text/x-python",
   "name": "python",
   "nbconvert_exporter": "python",
   "pygments_lexer": "ipython3",
   "version": "3.6.15"
  },
  "widgets": {
   "application/vnd.jupyter.widget-state+json": {
    "state": {},
    "version_major": 2,
    "version_minor": 0
   }
  }
 },
 "nbformat": 4,
 "nbformat_minor": 4
}
